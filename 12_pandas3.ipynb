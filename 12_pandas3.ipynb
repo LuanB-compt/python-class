{
 "cells": [
  {
   "cell_type": "markdown",
   "metadata": {},
   "source": [
    "# **PYTHON 12 PANDAS (parte 2)**"
   ]
  },
  {
   "cell_type": "markdown",
   "metadata": {},
   "source": [
    "### **TÓPICOS A ESTUDAR:**"
   ]
  },
  {
   "cell_type": "markdown",
   "metadata": {},
   "source": [
    "- Cálculos estatísticos\n",
    "    - Comandos\n",
    "    - Exemplos <br><br>"
   ]
  },
  {
   "cell_type": "markdown",
   "metadata": {},
   "source": [
    "-----------------------------------------"
   ]
  },
  {
   "cell_type": "markdown",
   "metadata": {},
   "source": [
    "## CÁLCULOS ESTATÍSTICOS"
   ]
  },
  {
   "cell_type": "markdown",
   "metadata": {},
   "source": [
    "**COMANDOS**<br>\n",
    "- `pd.DataFrame().describe()`: Retorna um DataFrame com algumas métricas estatísticas sobre cada coluna\n",
    "- `pd.Serie.métrica`:  Retorna o valor da métrica para aquela coluna\n",
    "- `pd.DataFrame().value_counts()`:  Conta o número de amostras por categoria\n",
    "- `pd.Series().value_counts()`:  Conta o número de amostras por valor\n",
    "- `pd.DataFrame.isnull().sum()`: Retorna quantidade de dados faltantes por coluna\n",
    "<br>\n",
    "\n",
    "**EXEMPLO**<br>"
   ]
  },
  {
   "cell_type": "code",
   "execution_count": null,
   "metadata": {},
   "outputs": [],
   "source": [
    "import pandas as pd \n",
    "\n",
    "titanic = pd.read_csv('Data/titanic.csv')\n",
    "titanic"
   ]
  },
  {
   "cell_type": "code",
   "execution_count": null,
   "metadata": {},
   "outputs": [],
   "source": [
    "titanic.describe()"
   ]
  },
  {
   "cell_type": "code",
   "execution_count": null,
   "metadata": {},
   "outputs": [],
   "source": [
    "titanic.Fare.median()"
   ]
  },
  {
   "cell_type": "code",
   "execution_count": null,
   "metadata": {},
   "outputs": [],
   "source": [
    "titanic['Age'].value_counts()"
   ]
  },
  {
   "cell_type": "code",
   "execution_count": null,
   "metadata": {},
   "outputs": [],
   "source": [
    "titanic.isnull().sum()"
   ]
  },
  {
   "cell_type": "markdown",
   "metadata": {},
   "source": [
    "-----------------------------------------"
   ]
  }
 ],
 "metadata": {
  "kernelspec": {
   "display_name": "Python 3.10.6 ('aula')",
   "language": "python",
   "name": "python3"
  },
  "language_info": {
   "codemirror_mode": {
    "name": "ipython",
    "version": 3
   },
   "file_extension": ".py",
   "mimetype": "text/x-python",
   "name": "python",
   "nbconvert_exporter": "python",
   "pygments_lexer": "ipython3",
   "version": "3.10.6"
  },
  "orig_nbformat": 4,
  "vscode": {
   "interpreter": {
    "hash": "d6eeed67e8b31e9914d1b8b2a22710732b8ff57f933bb65cfc5e1fb719b027eb"
   }
  }
 },
 "nbformat": 4,
 "nbformat_minor": 2
}
