{
 "cells": [
  {
   "cell_type": "markdown",
   "metadata": {},
   "source": [
    "# **PYTHON 8 MATRIZES NUMÉRICAS**"
   ]
  },
  {
   "cell_type": "markdown",
   "metadata": {},
   "source": [
    "### **TÓPICOS A ESTUDAR:**"
   ]
  },
  {
   "cell_type": "markdown",
   "metadata": {},
   "source": [
    "- NumPy\n",
    "    - O que é\n",
    "    - numpy array\n",
    "    - Exemplos<br><br>\n",
    "- Comandos básicos\n",
    "    - Sintaxe\n",
    "    - Exemplos<br><br>\n",
    "- Tarefa"
   ]
  },
  {
   "cell_type": "markdown",
   "metadata": {},
   "source": [
    "-----------------------------------------"
   ]
  },
  {
   "cell_type": "markdown",
   "metadata": {},
   "source": [
    "## NUMPY (NUMERICAL PYTHON)"
   ]
  },
  {
   "cell_type": "markdown",
   "metadata": {},
   "source": [
    "**O QUE É**<br>\n",
    "- É uma biblioteca open-source muito usada na área de Ciência e Engenharia. NumPy é usado amplamente com outras bibliotecas de manipulação de dados, como Pandas, scikit-learn, Matplotlib, entre muitas outras. Ainda, contém estruturas de dados multidimensionais e matriciais, fornecendo **objetos** com sequências **homogêneas** de matriz n-dimensional e métodos para manipulação em cima dos dados.\n",
    "- Também possui funções para trabalhar no domínio da álgebra linear, transformada de Fourier e matrizes.\n",
    "<br>\n",
    "\n",
    "**POR QUE USAR?**<br>\n",
    "- Em Python temos listas que servem o propósito de matrizes, mas que são lentas de processar, e NumPy pretende fornecer um objecto de matriz que é até 50x mais rápido do que as listas Python tradicionais.\n",
    "<br>\n",
    "\n",
    "**ndarray**<br>\n",
    "- O objecto de matriz em NumPy é chamado `ndarray`, fornece muitas funções de suporte que tornam o trabalho com `ndarray` muito fácil.\n",
    "- Um `vetor` é um array de uma dimensão, enquanto que uma matriz é um `array` de duas dimensões, e para os `arrays` de três ou mais dimensões é chamado comumente de tensor.\n",
    "\n",
    "**EXEMPLO**<br>"
   ]
  },
  {
   "cell_type": "code",
   "execution_count": null,
   "metadata": {},
   "outputs": [],
   "source": [
    "import numpy as np\n",
    "array1 = np.array([0,1,2,3,4])\n",
    "array2 = np.array([[0,1,2,3,4], [5,6,7,8,9]])"
   ]
  },
  {
   "cell_type": "markdown",
   "metadata": {},
   "source": [
    "-----------------------------------------"
   ]
  },
  {
   "cell_type": "markdown",
   "metadata": {},
   "source": [
    "## COMANDOS BÁSICOS"
   ]
  },
  {
   "cell_type": "markdown",
   "metadata": {},
   "source": [
    "**ATRIBUTO DE NDARRAY**<br>\n",
    "- O número de dimensões e elementos do array é definido no seu `shape`. O `shape` é uma tupla de números inteiros não negativos que especificam o tamanho de cada dimensão.\n",
    "- Em NumPy, as dimensões são chamadas de `axes` (eixos).\n",
    "<br>\n",
    "\n",
    "**SINTAXE**<br>\n",
    "```\n",
    "np.array().shape # retorna o shape do array\n",
    "```\n",
    "<br><br>\n",
    "\n",
    "**ALOCAR UM ARRAY NA MEMÓRIA**<br>\n",
    "- Partir de uma lista definida\n",
    "<br>\n",
    "\n",
    "**SINTAXE**<br>\n",
    "```\n",
    "nome = np.array(lista n-dimensões)\n",
    "```\n",
    "<br>\n",
    "\n",
    "- Array preenchido de zeros\n",
    "<br>\n",
    "\n",
    "**SINTAXE**<br>\n",
    "```\n",
    "nome = np.zeros(shape)\n",
    "```\n",
    "<br>\n",
    "\n",
    "- Array preenchido de um\n",
    "<br>\n",
    "\n",
    "**SINTAXE**<br>\n",
    "```\n",
    "nome = np.ones(shape)\n",
    "```\n",
    "<br>\n",
    "\n",
    "- Array vazio (usar essa função em vezes de `zeros` é velocidade)\n",
    "<br>\n",
    "\n",
    "**SINTAXE**<br>\n",
    "```\n",
    "nome = np.empty(shape)\n",
    "```\n",
    "<br>\n",
    "\n",
    "- Array a partir de um `range`\n",
    "<br>\n",
    "\n",
    "**SINTAXE**<br>\n",
    "```\n",
    "nome = np.arange(start, stop, step)\n",
    "```\n",
    "<br>\n",
    "\n",
    "- Matriz com valores espaçados linearmente num intervalo especifico\n",
    "<br>\n",
    "\n",
    "**SINTAXE**<br>\n",
    "```\n",
    "nome = np.linspace(start, stop, num)\n",
    "```\n",
    "<br>\n",
    "\n",
    "**EXEMPLO**<br>"
   ]
  },
  {
   "cell_type": "code",
   "execution_count": 7,
   "metadata": {},
   "outputs": [
    {
     "data": {
      "text/plain": [
       "array([0, 1, 2, 3, 4])"
      ]
     },
     "execution_count": 7,
     "metadata": {},
     "output_type": "execute_result"
    }
   ],
   "source": [
    "import numpy as np\n",
    "\n",
    "array1 = np.array([0,1,2,3,4])\n",
    "array1"
   ]
  },
  {
   "cell_type": "code",
   "execution_count": 9,
   "metadata": {},
   "outputs": [
    {
     "data": {
      "text/plain": [
       "array([0., 0., 0., 0., 0.])"
      ]
     },
     "execution_count": 9,
     "metadata": {},
     "output_type": "execute_result"
    }
   ],
   "source": [
    "np.zeros(5)"
   ]
  },
  {
   "cell_type": "code",
   "execution_count": 10,
   "metadata": {},
   "outputs": [
    {
     "data": {
      "text/plain": [
       "array([1., 1., 1., 1., 1.])"
      ]
     },
     "execution_count": 10,
     "metadata": {},
     "output_type": "execute_result"
    }
   ],
   "source": [
    "np.ones(5)"
   ]
  },
  {
   "cell_type": "code",
   "execution_count": 11,
   "metadata": {},
   "outputs": [
    {
     "data": {
      "text/plain": [
       "array([1., 1., 1., 1., 1.])"
      ]
     },
     "execution_count": 11,
     "metadata": {},
     "output_type": "execute_result"
    }
   ],
   "source": [
    "np.empty(5)"
   ]
  },
  {
   "cell_type": "code",
   "execution_count": 14,
   "metadata": {},
   "outputs": [
    {
     "data": {
      "text/plain": [
       "array([0, 1, 2, 3, 4])"
      ]
     },
     "execution_count": 14,
     "metadata": {},
     "output_type": "execute_result"
    }
   ],
   "source": [
    "np.arange(5)"
   ]
  },
  {
   "cell_type": "code",
   "execution_count": 17,
   "metadata": {},
   "outputs": [
    {
     "data": {
      "text/plain": [
       "array([0.  , 1.25, 2.5 , 3.75, 5.  ])"
      ]
     },
     "execution_count": 17,
     "metadata": {},
     "output_type": "execute_result"
    }
   ],
   "source": [
    "np.linspace(0, 5, num=5)"
   ]
  },
  {
   "cell_type": "markdown",
   "metadata": {},
   "source": [
    "-----------------------------------------"
   ]
  },
  {
   "cell_type": "markdown",
   "metadata": {},
   "source": [
    "## TAREFA"
   ]
  },
  {
   "cell_type": "code",
   "execution_count": null,
   "metadata": {},
   "outputs": [],
   "source": [
    "\"\"\" ESCREVA UM ALGORITMO QUE RECEBA UM VALOR E RETORNA O NOME DA CHAVE DO DICIONÁRIO QUE CONTENHA AQUELE VALOR \"\"\"\n",
    "\n",
    "dic = dict(bateria=12, energia=110, hello='world', corrente=2, tipo='dicionário')\n",
    "valor = 2\n",
    "\n",
    "# Escreva seu código abaixo\n"
   ]
  },
  {
   "cell_type": "markdown",
   "metadata": {},
   "source": [
    "-----------------------------------------"
   ]
  }
 ],
 "metadata": {
  "kernelspec": {
   "display_name": "Python 3.10.6 ('aula')",
   "language": "python",
   "name": "python3"
  },
  "language_info": {
   "codemirror_mode": {
    "name": "ipython",
    "version": 3
   },
   "file_extension": ".py",
   "mimetype": "text/x-python",
   "name": "python",
   "nbconvert_exporter": "python",
   "pygments_lexer": "ipython3",
   "version": "3.10.6"
  },
  "orig_nbformat": 4,
  "vscode": {
   "interpreter": {
    "hash": "d6eeed67e8b31e9914d1b8b2a22710732b8ff57f933bb65cfc5e1fb719b027eb"
   }
  }
 },
 "nbformat": 4,
 "nbformat_minor": 2
}
