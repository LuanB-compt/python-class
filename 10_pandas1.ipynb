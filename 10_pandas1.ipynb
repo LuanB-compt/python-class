{
 "cells": [
  {
   "cell_type": "markdown",
   "metadata": {},
   "source": [
    "# **PYTHON 10 PANDAS (parte 1)**"
   ]
  },
  {
   "cell_type": "markdown",
   "metadata": {},
   "source": [
    "### **TÓPICOS A ESTUDAR:**"
   ]
  },
  {
   "cell_type": "markdown",
   "metadata": {},
   "source": [
    "- Pandas\n",
    "    - O que é\n",
    "    - Estrutura de Dados\n",
    "- Comandos básicos\n",
    "    - Sintaxe\n",
    "    - Exemplos<br><br>\n",
    "- Tarefa"
   ]
  },
  {
   "cell_type": "markdown",
   "metadata": {},
   "source": [
    "-----------------------------------------"
   ]
  },
  {
   "cell_type": "markdown",
   "metadata": {},
   "source": [
    "## PANDAS"
   ]
  },
  {
   "cell_type": "markdown",
   "metadata": {},
   "source": [
    "**O QUE É**<br>\n",
    "- É uma biblioteca open-source muito usada na área de Ciência e Engenharia. Foi desenvolvida para facilitar o trabalho com dados estruturados, análise de dados, trazendo ferramentas e funções para isso.\n",
    "<br>\n",
    "\n",
    "**ESTRUTURA DE DADOS**<br>\n",
    "- Ao facilitar o trabalho com dados, Pandas traz duas estruturas onde os dados tabulares são transformados, sendo elas: `DataFrames` e `Series`. Sendo a principal diferença entre essas duas estruturas é que as `Series` sempre tem uma dimensão, e os `DataFrames` podem ter uma ou mais dimensões (sendo um conjunto de `Series`)."
   ]
  },
  {
   "cell_type": "markdown",
   "metadata": {},
   "source": [
    "-----------------------------------------"
   ]
  },
  {
   "cell_type": "markdown",
   "metadata": {},
   "source": [
    "## COMANDOS BÁSICOS"
   ]
  },
  {
   "cell_type": "markdown",
   "metadata": {},
   "source": [
    "**PRIMEIROS COMANDOS**<br>\n",
    "- `pd.read_csv(path)`: Faz a leitura de um CSV para DataFrame\n",
    "- `pd.DataFrame(data)`: Cria um DataFrame partir de dados passados como argumento\n",
    "- `pd.Series(data)`: Cria um objeto Series com os dados passados como argumento\n",
    "- `pd.DataFrame[coluna]`: Retorna a coluna especificada como uma Series\n",
    "- `pd.DataFrame.iloc[linha]`: Retorna uma linha específica do DataFrame como Series\n",
    "- `pd.DataFrame[nova coluna] = data`: Cria uma nova coluna no final do DataFrame\n",
    "<br>\n",
    "\n",
    "**EXEMPLO**<br>"
   ]
  },
  {
   "cell_type": "code",
   "execution_count": null,
   "metadata": {},
   "outputs": [],
   "source": [
    "import pandas as pd \n",
    "\n",
    "df_water = pd.read_csv('Data/water_potability.csv')\n",
    "df_water"
   ]
  },
  {
   "cell_type": "code",
   "execution_count": null,
   "metadata": {},
   "outputs": [],
   "source": [
    "data = {\n",
    "    'col1':[0,1,2,3,4,5,6],\n",
    "    'col2':[8,7,9,6,4,102,0]\n",
    "}\n",
    "\n",
    "df = pd.DataFrame(data=data)\n",
    "df"
   ]
  },
  {
   "cell_type": "code",
   "execution_count": null,
   "metadata": {},
   "outputs": [],
   "source": [
    "sr = pd.Series([4,3,2,1,0])\n",
    "sr"
   ]
  },
  {
   "cell_type": "code",
   "execution_count": null,
   "metadata": {},
   "outputs": [],
   "source": [
    "df_water['ph']"
   ]
  },
  {
   "cell_type": "code",
   "execution_count": null,
   "metadata": {},
   "outputs": [],
   "source": [
    "df_water.iloc[500]"
   ]
  },
  {
   "cell_type": "code",
   "execution_count": null,
   "metadata": {},
   "outputs": [],
   "source": [
    "df['nova'] = [7,8,9,5,2,6,8]\n",
    "df"
   ]
  },
  {
   "cell_type": "markdown",
   "metadata": {},
   "source": [
    "-----------------------------------------"
   ]
  }
 ],
 "metadata": {
  "kernelspec": {
   "display_name": "Python 3.10.6 ('aula')",
   "language": "python",
   "name": "python3"
  },
  "language_info": {
   "codemirror_mode": {
    "name": "ipython",
    "version": 3
   },
   "file_extension": ".py",
   "mimetype": "text/x-python",
   "name": "python",
   "nbconvert_exporter": "python",
   "pygments_lexer": "ipython3",
   "version": "3.10.6"
  },
  "orig_nbformat": 4,
  "vscode": {
   "interpreter": {
    "hash": "d6eeed67e8b31e9914d1b8b2a22710732b8ff57f933bb65cfc5e1fb719b027eb"
   }
  }
 },
 "nbformat": 4,
 "nbformat_minor": 2
}
