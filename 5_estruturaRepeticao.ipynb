{
 "cells": [
  {
   "cell_type": "markdown",
   "metadata": {},
   "source": [
    "# **INTRODUAÇÃO A PYTHON 4 (ESTRUTURAS DE REPETIÇÃO)**"
   ]
  },
  {
   "cell_type": "markdown",
   "metadata": {},
   "source": [
    "### **TÓPICOS A ESTUDAR:**"
   ]
  },
  {
   "cell_type": "markdown",
   "metadata": {},
   "source": [
    "- for\n",
    "    - O que é for\n",
    "    - for aninhado\n",
    "    - Sintaxe\n",
    "    - Exemplos<br><br>\n",
    "- break e continue, e cláusula else em estruturas de repetição\n",
    "    - O que é break, continue e else\n",
    "    - Exemplos<br><br>\n",
    "- while:\n",
    "    - O que é while\n",
    "    - while aninhado\n",
    "    - Sintaxe\n",
    "    - Exemplos<br><br>\n",
    "- Tarefa"
   ]
  },
  {
   "cell_type": "markdown",
   "metadata": {},
   "source": [
    "-----------------------------------------"
   ]
  },
  {
   "cell_type": "markdown",
   "metadata": {},
   "source": [
    "## ESTRUTURA FOR"
   ]
  },
  {
   "cell_type": "markdown",
   "metadata": {},
   "source": [
    "**O QUE É FOR**<br>\n",
    "- O comando for em Python é um pouco diferente do que costuma ser em C ou Pascal. Invés de sempre iterar sobre uma progressão aritmética de números, ou permitir o programador definir o passo de iteração e a condição de parada, o comando `for` do Python itera sobre os itens de qualquer sequência (seja uma lista ou uma string), na ordem que aparecem na sequência.<br><br>\n",
    "**SINTAXE**<br>\n",
    "```\n",
    "for var in lista:\n",
    "    instrução\n",
    "    instrução\n",
    "```\n",
    "<br>\n",
    "\n",
    "**FOR ANINHADO**<br>\n",
    "- São estruturas de `for` com outro um ou mais `for` dentro do bloco de código. O aninhamento pode ser repetido quantas vezes for necessário. É muito usado para percorrer vetores de duas ou mais dimensões (EX: matrizes, pixels de imagens, janelas de tempo, ...).<br><br>\n",
    "**SINTAXE**<br>\n",
    "```\n",
    "for var1 in lista:\n",
    "    instrução\n",
    "    instrução\n",
    "    for var2 in var1:\n",
    "        instrução\n",
    "        instrução\n",
    "```\n",
    "<br>\n",
    "\n",
    "**EXEMPLO**<br>"
   ]
  },
  {
   "cell_type": "code",
   "execution_count": 4,
   "metadata": {},
   "outputs": [
    {
     "name": "stdout",
     "output_type": "stream",
     "text": [
      "[0, 1]\n",
      "0\n",
      "1\n",
      "[0, 1]\n",
      "0\n",
      "1\n",
      "[0, 1]\n",
      "0\n",
      "1\n",
      "[0, 1]\n",
      "0\n",
      "1\n"
     ]
    }
   ],
   "source": [
    "lista = [[0,1], [0,1], [0,1], [0,1]]\n",
    "for linha in lista:\n",
    "    print(linha)\n",
    "    for valor in linha:\n",
    "        print(valor)"
   ]
  },
  {
   "cell_type": "code",
   "execution_count": 10,
   "metadata": {},
   "outputs": [
    {
     "name": "stdout",
     "output_type": "stream",
     "text": [
      "ROTA2030: 0\n",
      "Aula 1\n",
      "de 2\n",
      "Python 3\n"
     ]
    }
   ],
   "source": [
    "# Caso seja necessário iterar sobre uma sequência numérica, é necessário usar a função 'range()'\n",
    "\n",
    "lista = ['ROTA2030:', 'Aula', 'de', 'Python']\n",
    "for i in range(len(lista)):\n",
    "    print(lista[i], i)"
   ]
  },
  {
   "cell_type": "markdown",
   "metadata": {},
   "source": [
    "-----------------------------------------"
   ]
  },
  {
   "cell_type": "markdown",
   "metadata": {},
   "source": [
    "## ESTRUTURA WHILE"
   ]
  },
  {
   "cell_type": "markdown",
   "metadata": {},
   "source": [
    "**O QUE É WHILE**<br>\n",
    "- O laço de repetição `while` executa enquanto a condição definida permanecer verdadeira. Em Python, qualquer valor inteiro que não seja zero é considerado verdadeiro; zero é considerado falso. A condição pode também ser uma cadeia de caracteres ou uma lista, ou qualquer sequência; qualquer coisa com um tamanho maior que zero é verdadeiro, enquanto sequências vazias são falsas.<br><br>\n",
    "**SINTAXE**<br>\n",
    "```\n",
    "while condição:\n",
    "    instrução\n",
    "    instrução\n",
    "```\n",
    "<br>\n",
    "\n",
    "**WHILE ANINHADO**<br>\n",
    "- São estruturas de `while` com outro um ou mais `while` dentro do bloco de código. O aninhamento pode ser repetido quantas vezes for necessário. É muito usado para percorrer vetores de duas ou mais dimensões (EX: matrizes, pixels de imagens, janelas de tempo, ...).<br><br>\n",
    "**SINTAXE**<br>\n",
    "```\n",
    "while condição:\n",
    "    instrução\n",
    "    instrução\n",
    "    while condição:\n",
    "        instrução\n",
    "        instrução\n",
    "```\n",
    "<br>\n",
    "\n",
    "**EXEMPLO**<br>"
   ]
  },
  {
   "cell_type": "code",
   "execution_count": 11,
   "metadata": {},
   "outputs": [
    {
     "name": "stdout",
     "output_type": "stream",
     "text": [
      "ROTA2030:\n",
      "Aula\n",
      "de\n",
      "Python\n"
     ]
    }
   ],
   "source": [
    "i, lista = 0, ['ROTA2030:', 'Aula', 'de', 'Python']\n",
    "while i < len(lista):\n",
    "    print(lista[i])\n",
    "    i+=1"
   ]
  },
  {
   "cell_type": "code",
   "execution_count": 12,
   "metadata": {},
   "outputs": [
    {
     "name": "stdout",
     "output_type": "stream",
     "text": [
      "0,1,1,2,3,5,8,13,21,34,55,89,144,233,377,610,987,"
     ]
    }
   ],
   "source": [
    "a, b = 0, 1\n",
    "while a < 1000:\n",
    "    print(a, end=',')\n",
    "    a, b = b, a+b"
   ]
  },
  {
   "cell_type": "markdown",
   "metadata": {},
   "source": [
    "-----------------------------------------"
   ]
  },
  {
   "cell_type": "markdown",
   "metadata": {},
   "source": [
    "## BREAK, CONTINUE E ELSE EM LAÇOS DE REPETIÇÃO"
   ]
  },
  {
   "cell_type": "markdown",
   "metadata": {},
   "source": [
    "**O QUE É BREAK, CONTINUE E ELSE**<br>\n",
    "- O comando `break` sai imediatamente do laço de repetição mais interno, seja `for` ou `while`. O comando `continue`, continua com a próxima iteração do laço. Já a cláusula `else` é executada sempre que o laço se encerra por exaustão do iterável (no caso do `for`) ou quando a condição se torna falsa (no caso do `while`), mas nunca quando o laço é interrompido por um `break`.<br>\n",
    "\n",
    "**EXEMPLO**"
   ]
  },
  {
   "cell_type": "code",
   "execution_count": 16,
   "metadata": {},
   "outputs": [
    {
     "name": "stdout",
     "output_type": "stream",
     "text": [
      "* 2 is a prime number\n",
      "* 3 is a prime number\n",
      "- 4 equals 2 * 2.0\n",
      "* 5 is a prime number\n",
      "- 6 equals 2 * 3.0\n",
      "* 7 is a prime number\n",
      "- 8 equals 2 * 4.0\n",
      "- 9 equals 3 * 3.0\n",
      "- 10 equals 2 * 5.0\n"
     ]
    }
   ],
   "source": [
    "for n in range(2, 11):\n",
    "    for x in range(2, n):\n",
    "        if n % x == 0:\n",
    "            print('-', n, 'equals', x, '*', n/x)\n",
    "            break\n",
    "    else:\n",
    "        print('*', n, 'is a prime number')"
   ]
  },
  {
   "cell_type": "code",
   "execution_count": 19,
   "metadata": {},
   "outputs": [
    {
     "name": "stdout",
     "output_type": "stream",
     "text": [
      "Found an even number 2\n",
      "Found an odd number 3\n",
      "Found an even number 4\n",
      "Found an odd number 5\n",
      "Found an even number 6\n",
      "Found an odd number 7\n",
      "Found an even number 8\n",
      "Found an odd number 9\n"
     ]
    }
   ],
   "source": [
    "for num in range(2, 10):\n",
    "    if num % 2 == 0:\n",
    "        print(\"Found an even number\", num)\n",
    "        continue\n",
    "    print(\"Found an odd number\", num)"
   ]
  },
  {
   "cell_type": "markdown",
   "metadata": {},
   "source": [
    "-----------------------------------------"
   ]
  },
  {
   "cell_type": "markdown",
   "metadata": {},
   "source": [
    "## TAREFA"
   ]
  },
  {
   "cell_type": "code",
   "execution_count": null,
   "metadata": {},
   "outputs": [],
   "source": [
    "\"\"\"FAÇA UM PROGRAMA QUE UTILIZE ALGUM LAÇO DE REPETIÇÃO COM PELO MENOS DOIS DOS COMANDOS BREAK, CONTINUE E ELSE\"\"\"\n",
    "\n",
    "# Escreva seu código aqui abaixo\n"
   ]
  },
  {
   "cell_type": "markdown",
   "metadata": {},
   "source": [
    "-----------------------------------------"
   ]
  }
 ],
 "metadata": {
  "kernelspec": {
   "display_name": "Python 3.9.7 ('base')",
   "language": "python",
   "name": "python3"
  },
  "language_info": {
   "codemirror_mode": {
    "name": "ipython",
    "version": 3
   },
   "file_extension": ".py",
   "mimetype": "text/x-python",
   "name": "python",
   "nbconvert_exporter": "python",
   "pygments_lexer": "ipython3",
   "version": "3.9.7"
  },
  "orig_nbformat": 4,
  "vscode": {
   "interpreter": {
    "hash": "ad2bdc8ecc057115af97d19610ffacc2b4e99fae6737bb82f5d7fb13d2f2c186"
   }
  }
 },
 "nbformat": 4,
 "nbformat_minor": 2
}
