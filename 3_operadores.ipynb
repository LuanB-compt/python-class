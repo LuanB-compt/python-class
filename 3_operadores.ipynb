{
 "cells": [
  {
   "cell_type": "markdown",
   "metadata": {},
   "source": [
    "# **INTRODUAÇÃO A PYTHON 3 (OPERADORES)**"
   ]
  },
  {
   "cell_type": "markdown",
   "metadata": {},
   "source": [
    "### **TÓPICOS A ESTUDAR:**"
   ]
  },
  {
   "cell_type": "markdown",
   "metadata": {},
   "source": [
    "- Operação de atribuição\n",
    "    - O que é atribuição\n",
    "    - Sintaxe\n",
    "    - Exemplos<br><br>\n",
    "- Operadores aritméticos:\n",
    "    - O que são Operadores aritméticos\n",
    "    - Sintaxe\n",
    "    - Exemplos<br><br>\n",
    "- Operadores relacionais\n",
    "    - O que são Operadores relacionais\n",
    "    - Sintaxe\n",
    "    - Exemplos<br><br>\n",
    "- Operadores lógicos\n",
    "    - O que são Operadores lógicos\n",
    "    - Sintaxe\n",
    "    - Exemplos<br><br>"
   ]
  },
  {
   "cell_type": "markdown",
   "metadata": {},
   "source": [
    "-----------------------------------------"
   ]
  },
  {
   "cell_type": "markdown",
   "metadata": {},
   "source": [
    "## OPERADOR DE ATRIBUIÇÃO"
   ]
  },
  {
   "cell_type": "markdown",
   "metadata": {},
   "source": [
    "**O QUE É ATRIBUIÇÃO**<br>\n",
    "- É uma operação comum em todas as linguagens de programação, onde o programador salva uma informação na memória do computador. Para fazer isso, é utilizado a operação de atribuição, atribuindo a informação a uma variável do código usando o sinal de igualdade (`=`). <br><br>\n",
    "\n",
    "**SINTAXE**<br>\n",
    "- `nome_variavel = valor_atribuído`<br><br>\n",
    "\n",
    "**EXEMPLO**<br>"
   ]
  },
  {
   "cell_type": "code",
   "execution_count": null,
   "metadata": {},
   "outputs": [],
   "source": [
    "inteiro = 9\n",
    "pontoFlutuante = -85.5\n",
    "opcao = 'A'\n",
    "string = \"hello world\"\n",
    "logico = True\n",
    "\n",
    "print('inteiro:', inteiro)\n",
    "print('pontoFlutuante:', pontoFlutuante)\n",
    "print('opcao:', opcao)\n",
    "print('string:', string)\n",
    "print('logico:', logico)"
   ]
  },
  {
   "cell_type": "markdown",
   "metadata": {},
   "source": [
    "-----------------------------------------"
   ]
  },
  {
   "cell_type": "markdown",
   "metadata": {},
   "source": [
    "## OPERADORES ARITMÉTICOS"
   ]
  },
  {
   "cell_type": "markdown",
   "metadata": {},
   "source": [
    "**O QUE SÃO OPERADORES ARITMÉTICOS**<br>\n",
    "- São os operadores utilizados entre dois operandos para realizar um cálculo. <br>  \n",
    "\n",
    "| OPERADOR | EXECUÇÃO | TIPO |\n",
    "| ----------- | ------ | ------- |\n",
    "| + |   Soma (concatenação)  | binário |\n",
    "| - |   Subtração  | binário | \n",
    "| * |   Multiplicação  | binário | \n",
    "| / |   Divisão  | binário | \n",
    "| % |   Módulo  | binário | \n",
    "| ** |   Potenciação  | unário |\n",
    "| +=n |   Incrementação  | unário |\n",
    "| -=n |   Decrementação  | unário |\n",
    "| *=n |   Incrementação (multi.)  | unário |\n",
    "| /=n |   Decrementação (div.)  | unário | \n",
    "\n",
    "<br>\n",
    "\n",
    "**ORDEM DE IMPORTÂNCIA**\n",
    "- Uma questão importante é pensar quando eles são usados em conjunto, na mesma expressão. Para estas situações é utilizado as regras de ordem de execução de cada cálculo. <br>\n",
    "\n",
    "| ORDEM | OPERADOR |\n",
    "| ----------- | ------ | \n",
    "| 1° |   Parênteses mais interno  | \n",
    "| 2° |   Potênciação  | \n",
    "| 3° |   Mult. e Div.  | \n",
    "| 4° |   Soma e Sub.  |\n",
    "\n",
    "**SINTAXE**<br>\n",
    "- `a (operador) b`<br><br>\n",
    "\n",
    "**EXEMPLO**"
   ]
  },
  {
   "cell_type": "code",
   "execution_count": 2,
   "metadata": {},
   "outputs": [
    {
     "name": "stdout",
     "output_type": "stream",
     "text": [
      "51\n",
      "1\n",
      "30\n"
     ]
    }
   ],
   "source": [
    "a = 1+2*(5**2)\n",
    "b = 10 % 3\n",
    "\n",
    "z = 5\n",
    "z*=6\n",
    "\n",
    "print(str(a) + '\\n' + str(b) + '\\n' + str(z))"
   ]
  },
  {
   "cell_type": "markdown",
   "metadata": {},
   "source": [
    "-----------------------------------------"
   ]
  },
  {
   "cell_type": "markdown",
   "metadata": {},
   "source": [
    "## OPERADORES RELACIONAIS"
   ]
  },
  {
   "cell_type": "markdown",
   "metadata": {},
   "source": [
    "**O QUE SÃO OPERADORES RELACIONAIS**<br>\n",
    "- São utilizados para criar expressões booleanas e assim montar as condições necessárias para o programa. <br>  \n",
    "\n",
    "| OPERADOR | SÍMBOLO |\n",
    "| ----------- | ------ | \n",
    "| Igualdade |  ==  |\n",
    "| Diferente |  !=  | \n",
    "| Maior que |  >  | \n",
    "| Maior ou igual que |  >=  | \n",
    "| Menor que |  <  |\n",
    "| Menor ou igual que |  <=  |\n",
    "\n",
    "<br>\n",
    "\n",
    "**SINTAXE**<br>\n",
    "- `a (operador) b`<br><br>\n",
    "\n",
    "**EXEMPLO**"
   ]
  },
  {
   "cell_type": "code",
   "execution_count": 3,
   "metadata": {},
   "outputs": [
    {
     "name": "stdout",
     "output_type": "stream",
     "text": [
      "True\n",
      "False\n"
     ]
    }
   ],
   "source": [
    "x = 5!=9\n",
    "\n",
    "print(x)\n",
    "print(78 <= 77)"
   ]
  },
  {
   "cell_type": "markdown",
   "metadata": {},
   "source": [
    "-----------------------------------------"
   ]
  },
  {
   "cell_type": "markdown",
   "metadata": {},
   "source": [
    "## OPERADORES LÓGICOS"
   ]
  },
  {
   "cell_type": "markdown",
   "metadata": {},
   "source": [
    "**O QUE SÃO OPERADORES LÓGICOS**<br>\n",
    "- São utilizados juntar duas ou mais expressões/condições feitas com os Operadores Relacionais e assim criar expressões mais complexas. <br>  \n",
    "\n",
    "| OPERADOR | LÓGICA |\n",
    "| ----------- | ------ | \n",
    "| and |  a*b  |\n",
    "| or  |  a+b  | \n",
    "| not |  a*(-1)  | \n",
    "\n",
    "<br>\n",
    "\n",
    "**SINTAXE**<br>\n",
    "- `expressão1 (operador) expressão2`<br><br>\n",
    "\n",
    "**EXEMPLO**"
   ]
  },
  {
   "cell_type": "code",
   "execution_count": null,
   "metadata": {},
   "outputs": [],
   "source": [
    "x = 5!=9 and 9==8\n",
    "\n",
    "print(x)\n",
    "print(78<=77 or 100!=0)"
   ]
  },
  {
   "cell_type": "markdown",
   "metadata": {},
   "source": [
    "-----------------------------------------"
   ]
  },
  {
   "cell_type": "markdown",
   "metadata": {},
   "source": [
    "## TAREFA"
   ]
  },
  {
   "cell_type": "code",
   "execution_count": null,
   "metadata": {},
   "outputs": [],
   "source": [
    "\"\"\"ESCREVA UM ALGORITMO QUE RECEBA DOIS VALORES DO USUÁRIO. ENTÃO FAÇA AS OPERAÇÕES DE SOMA, SUBTRAÇÃO, MULTIPLICAÇÃO,\n",
    "   DIVISÃO, POTENCIAÇÃO E RADICIAÇÃO. ENTÃO MOSTRE OS RESULTADOS PARA O USUÁRIO\"\"\"\n",
    "\n",
    "# Escreva aqui abaixo\n"
   ]
  },
  {
   "cell_type": "markdown",
   "metadata": {},
   "source": [
    "-----------------------------------------"
   ]
  }
 ],
 "metadata": {
  "kernelspec": {
   "display_name": "Python 3.9.7 ('base')",
   "language": "python",
   "name": "python3"
  },
  "language_info": {
   "codemirror_mode": {
    "name": "ipython",
    "version": 3
   },
   "file_extension": ".py",
   "mimetype": "text/x-python",
   "name": "python",
   "nbconvert_exporter": "python",
   "pygments_lexer": "ipython3",
   "version": "3.9.7"
  },
  "orig_nbformat": 4,
  "vscode": {
   "interpreter": {
    "hash": "ad2bdc8ecc057115af97d19610ffacc2b4e99fae6737bb82f5d7fb13d2f2c186"
   }
  }
 },
 "nbformat": 4,
 "nbformat_minor": 2
}
