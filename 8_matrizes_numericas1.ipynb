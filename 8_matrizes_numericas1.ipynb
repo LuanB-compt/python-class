{
 "cells": [
  {
   "cell_type": "markdown",
   "metadata": {},
   "source": [
    "# **PYTHON 8 MATRIZES NUMÉRICAS (parte 1)**"
   ]
  },
  {
   "cell_type": "markdown",
   "metadata": {},
   "source": [
    "### **TÓPICOS A ESTUDAR:**"
   ]
  },
  {
   "cell_type": "markdown",
   "metadata": {},
   "source": [
    "- NumPy\n",
    "    - O que é\n",
    "    - numpy array\n",
    "    - Exemplos<br><br>\n",
    "- Comandos básicos\n",
    "    - Sintaxe\n",
    "    - Exemplos<br><br>\n",
    "- Tarefa"
   ]
  },
  {
   "cell_type": "markdown",
   "metadata": {},
   "source": [
    "-----------------------------------------"
   ]
  },
  {
   "cell_type": "markdown",
   "metadata": {},
   "source": [
    "## NUMPY (NUMERICAL PYTHON)"
   ]
  },
  {
   "cell_type": "markdown",
   "metadata": {},
   "source": [
    "**O QUE É**<br>\n",
    "- É uma biblioteca open-source muito usada na área de Ciência e Engenharia. NumPy é usado amplamente com outras bibliotecas de manipulação de dados, como Pandas, scikit-learn, Matplotlib, entre muitas outras. Ainda, contém estruturas de dados multidimensionais e matriciais, fornecendo **objetos** com sequências **homogêneas** de matriz n-dimensional e métodos para manipulação em cima dos dados.\n",
    "- Também possui funções para trabalhar no domínio da álgebra linear, transformada de Fourier e matrizes.\n",
    "<br>\n",
    "\n",
    "**POR QUE USAR?**<br>\n",
    "- Em Python temos listas que servem o propósito de matrizes, mas que são lentas de processar, e NumPy pretende fornecer um objecto de matriz que é até 50x mais rápido do que as listas Python tradicionais.\n",
    "<br>\n",
    "\n",
    "**ndarray**<br>\n",
    "- O objecto de matriz em NumPy é chamado `ndarray`, fornece muitas funções de suporte que tornam o trabalho com `ndarray` muito fácil.\n",
    "- Um `vetor` é um array de uma dimensão, enquanto que uma matriz é um `array` de duas dimensões, e para os `arrays` de três ou mais dimensões é chamado comumente de tensor.\n",
    "\n",
    "**EXEMPLO**<br>"
   ]
  },
  {
   "cell_type": "code",
   "execution_count": null,
   "metadata": {},
   "outputs": [],
   "source": [
    "import numpy as np\n",
    "array1 = np.array([0,1,2,3,4])\n",
    "array2 = np.array([[0,1,2,3,4], [5,6,7,8,9]])"
   ]
  },
  {
   "cell_type": "markdown",
   "metadata": {},
   "source": [
    "-----------------------------------------"
   ]
  },
  {
   "cell_type": "markdown",
   "metadata": {},
   "source": [
    "## COMANDOS BÁSICOS"
   ]
  },
  {
   "cell_type": "markdown",
   "metadata": {},
   "source": [
    "**ATRIBUTO DE NDARRAY**<br>\n",
    "- O número de dimensões e elementos do array é definido no seu `shape`. O `shape` é uma tupla de números inteiros não negativos que especificam o tamanho de cada dimensão.\n",
    "- Em NumPy, as dimensões são chamadas de `axes` (eixos).\n",
    "<br>\n",
    "\n",
    "**SINTAXE**<br>\n",
    "```\n",
    "np.array().shape # retorna o shape do array\n",
    "np.array().ndim # retorna o número de dimensões do array\n",
    "np.array().size # retorna quantidade de elementos tem no array\n",
    "```\n",
    "<br>\n",
    "\n",
    "**ALOCAR UM ARRAY NA MEMÓRIA**<br>\n",
    "- `np.array(lista n-dimensões)`: Partir de uma lista definida\n",
    "- `np.zeros(shape)`: Array preenchido de zeros\n",
    "- `np.ones(shape)`: Array preenchido de um\n",
    "- `np.empty(shape)`: Array vazio (usar essa função em vezes de `zeros` é velocidade)\n",
    "- `np.arange(start, stop, step)`: Array a partir de um `range`\n",
    "- `np.linspace(start, stop, num)`: Matriz com valores espaçados linearmente num intervalo especifico\n",
    "<br>\n",
    "\n",
    "**ADICIONAR E ORGANIZAR ARRAY**<br>\n",
    "- `np.sort(np.array())`: Organiza a lista de argumento em ordem crescente (retorna uma cópia do array)\n",
    "- `np.concatenate((np.array(), np.array()))`: Array preenchido de zeros\n",
    "* Há outras funções para organizar arrays (argsort, lexsort, searchsort, ...)\n",
    "<br>\n",
    "\n",
    "**RESHAPE**<br>\n",
    "- `np.array().reshape()`: Aplica um reshape no array sem alterar os dados\n",
    "<br>\n",
    "\n",
    "**ADICIONAR AXIS**<br>\n",
    "- `np.array()[np.newaxis, :]`: Adiciona uma linha no array\n",
    "- `np.array()[:, np.newaxis]`: Adiciona uma coluna no array\n",
    "- `np.expand_dims(array, axis)`: Adiciona um linha (axis=0) ou coluna (axis=1) \n",
    "<br>\n",
    "\n",
    "**INDEXAÇÃO E SLICE**<br>\n",
    "- Mesmo mecânismo de indexação e slice que as lista em Python tem\n",
    "<br>\n",
    "\n",
    "**EXEMPLO**<br>"
   ]
  },
  {
   "cell_type": "code",
   "execution_count": 14,
   "metadata": {},
   "outputs": [
    {
     "name": "stdout",
     "output_type": "stream",
     "text": [
      "[[ 0  1  2  3  4]\n",
      " [ 5  6  7  8  9]\n",
      " [10 11 12 13 14]] \n",
      "\n",
      "shape: (3, 5)\n",
      "ndim: 2\n",
      "size: 15\n"
     ]
    }
   ],
   "source": [
    "import numpy as np\n",
    "\n",
    "array1 = np.array([[0,1,2,3,4], [5,6,7,8,9], [10,11,12,13,14]])\n",
    "print(array1, '\\n')\n",
    "print('shape:',array1.shape)\n",
    "print('ndim:',array1.ndim)\n",
    "print('size:',array1.size)"
   ]
  },
  {
   "cell_type": "code",
   "execution_count": 15,
   "metadata": {},
   "outputs": [
    {
     "data": {
      "text/plain": [
       "array([0, 1, 2, 3, 4])"
      ]
     },
     "execution_count": 15,
     "metadata": {},
     "output_type": "execute_result"
    }
   ],
   "source": [
    "array1 = np.array([0,1,2,3,4])\n",
    "array1"
   ]
  },
  {
   "cell_type": "code",
   "execution_count": 2,
   "metadata": {},
   "outputs": [
    {
     "data": {
      "text/plain": [
       "array([0., 0., 0., 0., 0.])"
      ]
     },
     "execution_count": 2,
     "metadata": {},
     "output_type": "execute_result"
    }
   ],
   "source": [
    "np.zeros(5)"
   ]
  },
  {
   "cell_type": "code",
   "execution_count": 3,
   "metadata": {},
   "outputs": [
    {
     "data": {
      "text/plain": [
       "array([1., 1., 1., 1., 1.])"
      ]
     },
     "execution_count": 3,
     "metadata": {},
     "output_type": "execute_result"
    }
   ],
   "source": [
    "np.ones(5)"
   ]
  },
  {
   "cell_type": "code",
   "execution_count": 4,
   "metadata": {},
   "outputs": [
    {
     "data": {
      "text/plain": [
       "array([1., 1., 1., 1., 1.])"
      ]
     },
     "execution_count": 4,
     "metadata": {},
     "output_type": "execute_result"
    }
   ],
   "source": [
    "np.empty(5)"
   ]
  },
  {
   "cell_type": "code",
   "execution_count": 5,
   "metadata": {},
   "outputs": [
    {
     "data": {
      "text/plain": [
       "array([0, 1, 2, 3, 4])"
      ]
     },
     "execution_count": 5,
     "metadata": {},
     "output_type": "execute_result"
    }
   ],
   "source": [
    "np.arange(5)"
   ]
  },
  {
   "cell_type": "code",
   "execution_count": 6,
   "metadata": {},
   "outputs": [
    {
     "data": {
      "text/plain": [
       "array([0.  , 1.25, 2.5 , 3.75, 5.  ])"
      ]
     },
     "execution_count": 6,
     "metadata": {},
     "output_type": "execute_result"
    }
   ],
   "source": [
    "np.linspace(0, 5, num=5)"
   ]
  },
  {
   "cell_type": "code",
   "execution_count": 8,
   "metadata": {},
   "outputs": [
    {
     "data": {
      "text/plain": [
       "array([2, 3, 4, 6, 7, 8, 9])"
      ]
     },
     "execution_count": 8,
     "metadata": {},
     "output_type": "execute_result"
    }
   ],
   "source": [
    "array2 = np.array([4,2,9,8,7,6,3])\n",
    "np.sort(array1)"
   ]
  },
  {
   "cell_type": "code",
   "execution_count": 9,
   "metadata": {},
   "outputs": [
    {
     "data": {
      "text/plain": [
       "array([4, 2, 9, 8, 7, 6, 3, 4, 2, 9, 8, 7, 6, 3])"
      ]
     },
     "execution_count": 9,
     "metadata": {},
     "output_type": "execute_result"
    }
   ],
   "source": [
    "np.concatenate((array2, array1))"
   ]
  },
  {
   "cell_type": "code",
   "execution_count": 27,
   "metadata": {},
   "outputs": [
    {
     "name": "stdout",
     "output_type": "stream",
     "text": [
      "[ 0.  1.  2.  3.  4.  5.  6.  7.  8.  9. 10. 11. 12. 13. 14. 15. 16. 17.\n",
      " 18. 19. 20. 21. 22. 23. 24. 25. 26. 27. 28. 29. 30. 31. 32. 33. 34. 35.\n",
      " 36. 37. 38. 39. 40. 41. 42. 43. 44. 45. 46. 47. 48. 49.]\n",
      "shape: (50,) \n",
      "\n",
      "[[[ 0.  1.  2.  3.  4.]\n",
      "  [ 5.  6.  7.  8.  9.]\n",
      "  [10. 11. 12. 13. 14.]\n",
      "  [15. 16. 17. 18. 19.]\n",
      "  [20. 21. 22. 23. 24.]]\n",
      "\n",
      " [[25. 26. 27. 28. 29.]\n",
      "  [30. 31. 32. 33. 34.]\n",
      "  [35. 36. 37. 38. 39.]\n",
      "  [40. 41. 42. 43. 44.]\n",
      "  [45. 46. 47. 48. 49.]]]\n",
      "shape: (2, 5, 5)\n"
     ]
    }
   ],
   "source": [
    "array1 = np.linspace(0,49)\n",
    "print(array1)\n",
    "print('shape:', array1.shape, '\\n')\n",
    "\n",
    "array1 = array1.reshape(2,5,5)\n",
    "print(array1)\n",
    "print('shape:', array1.shape)"
   ]
  },
  {
   "cell_type": "code",
   "execution_count": 28,
   "metadata": {},
   "outputs": [
    {
     "data": {
      "text/plain": [
       "array([[0, 1, 2, 3, 4]])"
      ]
     },
     "execution_count": 28,
     "metadata": {},
     "output_type": "execute_result"
    }
   ],
   "source": [
    "array1 = np.array([0,1,2,3,4])\n",
    "array1 = array1[np.newaxis, :]\n",
    "array1"
   ]
  },
  {
   "cell_type": "code",
   "execution_count": 29,
   "metadata": {},
   "outputs": [
    {
     "data": {
      "text/plain": [
       "array([[0],\n",
       "       [1],\n",
       "       [2],\n",
       "       [3],\n",
       "       [4]])"
      ]
     },
     "execution_count": 29,
     "metadata": {},
     "output_type": "execute_result"
    }
   ],
   "source": [
    "array1 = np.array([0,1,2,3,4])\n",
    "array1 = array1[:, np.newaxis]\n",
    "array1"
   ]
  },
  {
   "cell_type": "code",
   "execution_count": 33,
   "metadata": {},
   "outputs": [
    {
     "name": "stdout",
     "output_type": "stream",
     "text": [
      "shape: (5,)\n",
      "shape: (1, 5)\n"
     ]
    }
   ],
   "source": [
    "array1 = np.array([0, 1, 2, 3, 4])\n",
    "print('shape:', array1.shape)\n",
    "\n",
    "array1 = np.expand_dims(array1, axis=0)\n",
    "print('shape:', array1.shape)"
   ]
  },
  {
   "cell_type": "code",
   "execution_count": 34,
   "metadata": {},
   "outputs": [
    {
     "name": "stdout",
     "output_type": "stream",
     "text": [
      "shape: (5,)\n",
      "shape: (5, 1)\n"
     ]
    }
   ],
   "source": [
    "array1 = np.array([0, 1, 2, 3, 4])\n",
    "print('shape:', array1.shape)\n",
    "\n",
    "array1 = np.expand_dims(array1, axis=1)\n",
    "print('shape:', array1.shape)"
   ]
  },
  {
   "cell_type": "code",
   "execution_count": 38,
   "metadata": {},
   "outputs": [
    {
     "name": "stdout",
     "output_type": "stream",
     "text": [
      "[0 1 2 3 4]\n",
      "[[0 1 2 3 4]]\n",
      "[6 7 8]\n",
      "[3 4 5 6 7 8 9]\n"
     ]
    }
   ],
   "source": [
    "array1 = np.array([[0, 1, 2, 3, 4], [5,6,7,8,9]])\n",
    "print(array1[0])\n",
    "print(array1[:-1])\n",
    "print(array1[1, 1:4])\n",
    "print(array1[array1 >= 3])"
   ]
  },
  {
   "cell_type": "markdown",
   "metadata": {},
   "source": [
    "-----------------------------------------"
   ]
  },
  {
   "cell_type": "markdown",
   "metadata": {},
   "source": [
    "## TAREFA"
   ]
  },
  {
   "cell_type": "code",
   "execution_count": null,
   "metadata": {},
   "outputs": [],
   "source": [
    "\"\"\"  \"\"\"\n",
    "\n",
    "# Escreva seu código abaixo\n"
   ]
  },
  {
   "cell_type": "markdown",
   "metadata": {},
   "source": [
    "-----------------------------------------"
   ]
  }
 ],
 "metadata": {
  "kernelspec": {
   "display_name": "Python 3.10.6 ('aula')",
   "language": "python",
   "name": "python3"
  },
  "language_info": {
   "codemirror_mode": {
    "name": "ipython",
    "version": 3
   },
   "file_extension": ".py",
   "mimetype": "text/x-python",
   "name": "python",
   "nbconvert_exporter": "python",
   "pygments_lexer": "ipython3",
   "version": "3.10.6"
  },
  "orig_nbformat": 4,
  "vscode": {
   "interpreter": {
    "hash": "d6eeed67e8b31e9914d1b8b2a22710732b8ff57f933bb65cfc5e1fb719b027eb"
   }
  }
 },
 "nbformat": 4,
 "nbformat_minor": 2
}
