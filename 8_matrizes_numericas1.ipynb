{
 "cells": [
  {
   "cell_type": "markdown",
   "metadata": {},
   "source": [
    "# **PYTHON 8 MATRIZES NUMÉRICAS (parte 1)**"
   ]
  },
  {
   "cell_type": "markdown",
   "metadata": {},
   "source": [
    "### **TÓPICOS A ESTUDAR:**"
   ]
  },
  {
   "cell_type": "markdown",
   "metadata": {},
   "source": [
    "- NumPy\n",
    "    - O que é\n",
    "    - numpy array\n",
    "    - Exemplos<br><br>\n",
    "- Comandos básicos\n",
    "    - Sintaxe\n",
    "    - Exemplos<br><br>\n",
    "- Tarefa"
   ]
  },
  {
   "cell_type": "markdown",
   "metadata": {},
   "source": [
    "-----------------------------------------"
   ]
  },
  {
   "cell_type": "markdown",
   "metadata": {},
   "source": [
    "## NUMPY (NUMERICAL PYTHON)"
   ]
  },
  {
   "cell_type": "markdown",
   "metadata": {},
   "source": [
    "**O QUE É**<br>\n",
    "- É uma biblioteca open-source muito usada na área de Ciência e Engenharia. NumPy é usado amplamente com outras bibliotecas de manipulação de dados, como Pandas, scikit-learn, Matplotlib, entre muitas outras. Ainda, contém estruturas de dados multidimensionais e matriciais, fornecendo **objetos** com sequências **homogêneas** de matriz n-dimensional e métodos para manipulação em cima dos dados.\n",
    "- Também possui funções para trabalhar no domínio da álgebra linear, transformada de Fourier e matrizes.\n",
    "<br>\n",
    "\n",
    "**POR QUE USAR?**<br>\n",
    "- Em Python temos listas que servem o propósito de matrizes, mas que são lentas de processar, e NumPy pretende fornecer um objecto de matriz que é até 50x mais rápido do que as listas Python tradicionais.\n",
    "<br>\n",
    "\n",
    "**ndarray**<br>\n",
    "- O objecto de matriz em NumPy é chamado `ndarray`, fornece muitas funções de suporte que tornam o trabalho com `ndarray` muito fácil.\n",
    "- Um `vetor` é um array de uma dimensão, enquanto que uma matriz é um `array` de duas dimensões, e para os `arrays` de três ou mais dimensões é chamado comumente de tensor.\n",
    "\n",
    "**EXEMPLO**<br>"
   ]
  },
  {
   "cell_type": "code",
   "execution_count": null,
   "metadata": {},
   "outputs": [],
   "source": [
    "import numpy as np\n",
    "array1 = np.array([0,1,2,3,4])\n",
    "array2 = np.array([[0,1,2,3,4], [5,6,7,8,9]])"
   ]
  },
  {
   "cell_type": "markdown",
   "metadata": {},
   "source": [
    "-----------------------------------------"
   ]
  },
  {
   "cell_type": "markdown",
   "metadata": {},
   "source": [
    "## COMANDOS BÁSICOS"
   ]
  },
  {
   "cell_type": "markdown",
   "metadata": {},
   "source": [
    "**ATRIBUTO DE NDARRAY**<br>\n",
    "- O número de dimensões e elementos do array é definido no seu `shape`. O `shape` é uma tupla de números inteiros não negativos que especificam o tamanho de cada dimensão.\n",
    "- Em NumPy, as dimensões são chamadas de `axes` (eixos).\n",
    "<br>\n",
    "\n",
    "**SINTAXE**<br>\n",
    "```\n",
    "np.array().shape # retorna o shape do array\n",
    "np.array().ndim # retorna o número de dimensões do array\n",
    "np.array().size # retorna quantidade de elementos tem no array\n",
    "```\n",
    "<br>\n",
    "\n",
    "**ALOCAR UM ARRAY NA MEMÓRIA**<br>\n",
    "- `np.array(lista n-dimensões)`: Partir de uma lista definida\n",
    "- `np.zeros(shape)`: Array preenchido de zeros\n",
    "- `np.ones(shape)`: Array preenchido de um\n",
    "- `np.empty(shape)`: Array vazio (usar essa função em vezes de `zeros` é velocidade)\n",
    "- `np.arange(start, stop, step)`: Array a partir de um `range`\n",
    "- `np.linspace(start, stop, num)`: Matriz com valores espaçados linearmente num intervalo especifico\n",
    "<br>\n",
    "\n",
    "**ADICIONAR E ORGANIZAR ARRAY**<br>\n",
    "- `np.sort(np.array())`: Organiza a lista de argumento em ordem crescente (retorna uma cópia do array)\n",
    "- `np.concatenate((np.array(), np.array()))`: Array preenchido de zeros\n",
    "* Há outras funções para organizar arrays (argsort, lexsort, searchsort, ...)\n",
    "<br>\n",
    "\n",
    "**RESHAPE**<br>\n",
    "- `np.array().reshape()`: Aplica um reshape no array sem alterar os dados\n",
    "<br>\n",
    "\n",
    "**ADICIONAR AXIS**<br>\n",
    "- `np.array()[np.newaxis, :]`: Adiciona uma linha no array\n",
    "- `np.array()[:, np.newaxis]`: Adiciona uma coluna no array\n",
    "- `np.expand_dims(array, axis)`: Adiciona um linha (axis=0) ou coluna (axis=1) \n",
    "<br>\n",
    "\n",
    "**INDEXAÇÃO E SLICE**<br>\n",
    "- Mesmo mecânismo de indexação e slice que as lista em Python tem\n",
    "<br>\n",
    "\n",
    "**EXEMPLO**<br>"
   ]
  },
  {
   "cell_type": "code",
   "execution_count": null,
   "metadata": {},
   "outputs": [],
   "source": [
    "import numpy as np\n",
    "\n",
    "array1 = np.array([[0,1,2,3,4], [5,6,7,8,9], [10,11,12,13,14]])\n",
    "print(array1, '\\n')\n",
    "print('shape:',array1.shape)\n",
    "print('ndim:',array1.ndim)\n",
    "print('size:',array1.size)"
   ]
  },
  {
   "cell_type": "code",
   "execution_count": null,
   "metadata": {},
   "outputs": [],
   "source": [
    "array1 = np.array([0,1,2,3,4])\n",
    "array1"
   ]
  },
  {
   "cell_type": "code",
   "execution_count": null,
   "metadata": {},
   "outputs": [],
   "source": [
    "np.zeros(5)"
   ]
  },
  {
   "cell_type": "code",
   "execution_count": null,
   "metadata": {},
   "outputs": [],
   "source": [
    "np.ones(5)"
   ]
  },
  {
   "cell_type": "code",
   "execution_count": null,
   "metadata": {},
   "outputs": [],
   "source": [
    "np.empty(5)"
   ]
  },
  {
   "cell_type": "code",
   "execution_count": null,
   "metadata": {},
   "outputs": [],
   "source": [
    "np.arange(5)"
   ]
  },
  {
   "cell_type": "code",
   "execution_count": null,
   "metadata": {},
   "outputs": [],
   "source": [
    "np.linspace(0, 5, num=5)"
   ]
  },
  {
   "cell_type": "code",
   "execution_count": null,
   "metadata": {},
   "outputs": [],
   "source": [
    "array2 = np.array([4,2,9,8,7,6,3])\n",
    "np.sort(array1)"
   ]
  },
  {
   "cell_type": "code",
   "execution_count": null,
   "metadata": {},
   "outputs": [],
   "source": [
    "np.concatenate((array2, array1))"
   ]
  },
  {
   "cell_type": "code",
   "execution_count": null,
   "metadata": {},
   "outputs": [],
   "source": [
    "array1 = np.linspace(0,49)\n",
    "print(array1)\n",
    "print('shape:', array1.shape, '\\n')\n",
    "\n",
    "array1 = array1.reshape(2,5,5)\n",
    "print(array1)\n",
    "print('shape:', array1.shape)"
   ]
  },
  {
   "cell_type": "code",
   "execution_count": null,
   "metadata": {},
   "outputs": [],
   "source": [
    "array1 = np.array([0,1,2,3,4])\n",
    "array1 = array1[np.newaxis, :]\n",
    "array1"
   ]
  },
  {
   "cell_type": "code",
   "execution_count": null,
   "metadata": {},
   "outputs": [],
   "source": [
    "array1 = np.array([0,1,2,3,4])\n",
    "array1 = array1[:, np.newaxis]\n",
    "array1"
   ]
  },
  {
   "cell_type": "code",
   "execution_count": null,
   "metadata": {},
   "outputs": [],
   "source": [
    "array1 = np.array([0, 1, 2, 3, 4])\n",
    "print('shape:', array1.shape)\n",
    "\n",
    "array1 = np.expand_dims(array1, axis=0)\n",
    "print('shape:', array1.shape)"
   ]
  },
  {
   "cell_type": "code",
   "execution_count": null,
   "metadata": {},
   "outputs": [],
   "source": [
    "array1 = np.array([0, 1, 2, 3, 4])\n",
    "print('shape:', array1.shape)\n",
    "\n",
    "array1 = np.expand_dims(array1, axis=1)\n",
    "print('shape:', array1.shape)"
   ]
  },
  {
   "cell_type": "code",
   "execution_count": null,
   "metadata": {},
   "outputs": [],
   "source": [
    "array1 = np.array([[0, 1, 2, 3, 4], [5,6,7,8,9]])\n",
    "print(array1[0])\n",
    "print(array1[:-1])\n",
    "print(array1[1, 1:4])\n",
    "print(array1[array1 >= 3])"
   ]
  },
  {
   "cell_type": "markdown",
   "metadata": {},
   "source": [
    "-----------------------------------------"
   ]
  }
 ],
 "metadata": {
  "kernelspec": {
   "display_name": "Python 3.10.6 ('aula')",
   "language": "python",
   "name": "python3"
  },
  "language_info": {
   "codemirror_mode": {
    "name": "ipython",
    "version": 3
   },
   "file_extension": ".py",
   "mimetype": "text/x-python",
   "name": "python",
   "nbconvert_exporter": "python",
   "pygments_lexer": "ipython3",
   "version": "3.10.6 | packaged by conda-forge | (main, Oct  7 2022, 20:14:50) [MSC v.1916 64 bit (AMD64)]"
  },
  "orig_nbformat": 4,
  "vscode": {
   "interpreter": {
    "hash": "d6eeed67e8b31e9914d1b8b2a22710732b8ff57f933bb65cfc5e1fb719b027eb"
   }
  }
 },
 "nbformat": 4,
 "nbformat_minor": 2
}
