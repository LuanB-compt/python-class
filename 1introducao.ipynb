{
 "cells": [
  {
   "cell_type": "markdown",
   "metadata": {},
   "source": [
    "# **INTRODUÇÃO PYTHON 1**"
   ]
  },
  {
   "cell_type": "markdown",
   "metadata": {},
   "source": [
    "### **TÓPICOS A ESTUDAR:**"
   ]
  },
  {
   "cell_type": "markdown",
   "metadata": {},
   "source": [
    "- Por que estudar Python?\n",
    "    - Aplicações de Python\n",
    "    - O que a linguagem é capaz de fazer\n",
    "    - Profissionais que utilizam e que podem utilizar essa tecnologia<br><br>\n",
    "- Introdução a programação\n",
    "    - Lógica de programação\n",
    "    - O que são algoritmos\n",
    "    - Algoritmos e programas<br><br>\n",
    "- Como programar em Python\n",
    "    - O que é uma IDE\n",
    "    - IDE's para programar Python\n",
    "    - Diferenças entre \".py\" e \".ipynb\" (e quando usar)<br><br>\n",
    "- Estrutura de um programa\n",
    "    - Bibliotecas, main(), variáveis"
   ]
  },
  {
   "cell_type": "markdown",
   "metadata": {},
   "source": [
    "------------------------------------------------"
   ]
  },
  {
   "cell_type": "markdown",
   "metadata": {},
   "source": [
    "## POR QUE ESTUDAR PYTHON?"
   ]
  },
  {
   "cell_type": "markdown",
   "metadata": {},
   "source": [
    "--------------------------------------------------------------"
   ]
  },
  {
   "cell_type": "markdown",
   "metadata": {},
   "source": [
    "## INTRODUÇÃO A PROGRAMAÇÃO"
   ]
  },
  {
   "cell_type": "markdown",
   "metadata": {},
   "source": [
    "**LÓGICA DE PROGRAMAÇÃO:**<br>\n",
    "- É uma técnica de encadear pensamentos para se atingir um objetivo, ou seja, consiste em compreender claramente os diversos passos e funções que são realizados na execução de um programa.<br><br>\n",
    "\n",
    "**ALGORITMOS:**<br>\n",
    "- Um algoritmo é uma sequência de instruções finitas organizadas de forma lógica que tem por finalidade resolver um problema ou descrever uma tarefa. Essas tarefas não podem ser redundantes nem subjetivas na sua definição, devem ser sempre claras e precisas. Quando se fala na palavra algoritmos não necessariamente se tem envolvidos aspectos computacionais, pois qualquer tarefa do dia a dia tem um algoritmo envolvido.<br><br>\n",
    "\n",
    "**PROGRAMA:**<br>\n",
    "- Já quando se alia a lógica de programação com um algoritmo é possível desenvolver um programa. Programas de computadores nada mais são do que do que algoritmos escritos em uma linguagem de programação (C, C#, C++, Pascal, Cobol, Java, entre outras) e que são interpretados/compilados e executados em uma máquina, no caso um computador.<br><br>"
   ]
  },
  {
   "cell_type": "markdown",
   "metadata": {},
   "source": [
    "--------------------------------------------------------------"
   ]
  },
  {
   "cell_type": "markdown",
   "metadata": {},
   "source": [
    "## COMO PROGRAMAR EM PYTHON"
   ]
  },
  {
   "cell_type": "markdown",
   "metadata": {},
   "source": [
    "**IDE:**<br>\n",
    "- Integrated Development Environment, é o ambiente onde se desenvolve a programação de uma certa linguagem. Dentro da IDE, é iniciado o arquivo fonte (arquivo que contém o código em uma linguagem de programação), e então o arquivo é passado para o compilador ou intepretador do ambiente. O código escrito em linguagem de alto nível é convertido para linguagem de máquina, em que o compilador \"lê\" todas as linhas em sequência e verifica se a sintaxe está correta, e para quando encontrar um erro. Caso não haja erros, o código fonte é compilado para um arquivo executável.<br>\n",
    "- Diferente das linguagens compiladas, Python é uma linguagem interpretada, ou seja, onde o código é compilado para Bytecode e então interpreta este Bytecode linha a linha.<br><br>\n",
    "\n",
    "**IDE'S PARA PROGRAMAR EM PYTHON:**<br>\n",
    "- Existem algumas IDE's online que são muito utilizadas, e com isso não é preciso instalar nada no computador, e nem é necessário uma máquina com alto processamento, basta estar conectado a internet. A mais conhecida é a [Google Colaboratory](https://colab.research.google.com), que é uma plataforma do Google para programar notebooks de Python, em que o código roda em um servidor, e ainda é possível salvar seus arquivos no Google Drive da sua conta.<br>\n",
    "- Outra IDE online que pode ser muito útil é a [Online GDB](https://www.onlinegdb.com), em que ela possibilita escrever e compilar códigos de Python em \".py\".<br>\n",
    "- Para escrever códigos Python e \"rodar\" offline (sem conexão a internet), é necessário instalar o interpretador da linguagem no seu computador (e caso seja útil, instalar um gerenciador de ambientes virtuais da linguagem). O Gerenciador mais usado e conhecido é o [Anaconda](https://www.anaconda.com).<br><br>\n",
    "\n",
    "**INSTALAÇÃO DO INTERPRETADOR:**<br>\n",
    "- WINDOWS: https://www.python.org/downloads/windows/\n",
    "- macOS: https://www.python.org/downloads/macos/\n",
    "- LINUX: *instalar com gerenciador de pacotes da distribuição como no exemplo abaixo, ou ir para o link: https://www.python.org/downloads/\n",
    "```\n",
    "    $ sudo apt install python3.x # Debian based\n",
    "```\n",
    "<br>\n",
    "\n",
    "**DIFERENÇAS ENTRE `.py` E `.ipynb`:**<br>\n",
    "- Os arquivos `.py` são arquivos que são os arquivos executáveis. <br>\n",
    "- Já os arquivos de `.ipynb` são arquivos que usam \"blocos\" (células) de código, onde cada bloco é interpretado separadamente. Ainda, os arquivos `.ipynb` possuem uma característica muito interessante de abrir blocos de Mardown para escrever textos, e desse modo, ter mais uma ferramenta de organização e apresentação de código."
   ]
  },
  {
   "cell_type": "markdown",
   "metadata": {},
   "source": [
    "--------------------------------------------------------------"
   ]
  },
  {
   "cell_type": "markdown",
   "metadata": {},
   "source": [
    "## ESTRUTURA DE UM PROGRAMA"
   ]
  },
  {
   "cell_type": "markdown",
   "metadata": {},
   "source": [
    "- Python é uma linguagem de alto nível e muito versátil. Com ela, é possível trabalhar tanto com soluções orientadas a objetos quanto com soluções estruturadas (**Linguagem multiparadigma**).\n",
    "\n",
    "- Todo o programa possui uma função principal que chama-se `main()`. Na `main()` está toda a sequencia de comandos que o programa irá executar, e ela é feita pura e exclusivamente para isso (não se declara funções dentro da main, etc...). Na estrutura de um programa, genéricamente, primeiro nós importamos as bibliotecas que serão usadas, então as variáveis são declaradas logo após as bibliotecas, e a partir disso começa a lógica do programa em si."
   ]
  },
  {
   "cell_type": "markdown",
   "metadata": {},
   "source": [
    "--------------------------------------------------------------"
   ]
  }
 ],
 "metadata": {
  "kernelspec": {
   "display_name": "Python 3.9.7 ('facul')",
   "language": "python",
   "name": "python3"
  },
  "language_info": {
   "codemirror_mode": {
    "name": "ipython",
    "version": 3
   },
   "file_extension": ".py",
   "mimetype": "text/x-python",
   "name": "python",
   "nbconvert_exporter": "python",
   "pygments_lexer": "ipython3",
   "version": "3.9.7"
  },
  "orig_nbformat": 4,
  "vscode": {
   "interpreter": {
    "hash": "43d71e64c777a16c1f00310747f076f57a7c50c9bb4a2029e51399bef4c31519"
   }
  }
 },
 "nbformat": 4,
 "nbformat_minor": 2
}
