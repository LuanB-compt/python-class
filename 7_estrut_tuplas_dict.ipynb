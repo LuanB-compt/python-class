{
 "cells": [
  {
   "cell_type": "markdown",
   "metadata": {},
   "source": [
    "# **PYTHON 7 ESTRUTURA DE DADOS (TUPLAS e DICIONÁRIOS)**"
   ]
  },
  {
   "cell_type": "markdown",
   "metadata": {},
   "source": [
    "### **TÓPICOS A ESTUDAR:**"
   ]
  },
  {
   "cell_type": "markdown",
   "metadata": {},
   "source": [
    "- Tuplas\n",
    "    - O que são\n",
    "    - Sintaxe\n",
    "    - Exemplos<br><br>\n",
    "- Dicionários\n",
    "    - O que são\n",
    "    - Sintaxe\n",
    "    - Exemplos<br><br>\n",
    "- Tarefa"
   ]
  },
  {
   "cell_type": "markdown",
   "metadata": {},
   "source": [
    "-----------------------------------------"
   ]
  },
  {
   "cell_type": "markdown",
   "metadata": {},
   "source": [
    "## TUPLAS"
   ]
  },
  {
   "cell_type": "markdown",
   "metadata": {},
   "source": [
    "**O QUE SÃO**<br>\n",
    "- Tuplas consiste em uma sequência de valores separados por vírgula. Não é possível manipular elementos individuais de uma tupla, porém é possível criar tuplas com elementos mutáveis, como as listas.\n",
    "<br>\n",
    "\n",
    "**SINTAXE TO LIST**<br>\n",
    "```\n",
    "nome = []\n",
    "```\n",
    "<br>\n",
    "\n",
    "**EXEMPLO**<br>"
   ]
  },
  {
   "cell_type": "code",
   "execution_count": null,
   "metadata": {},
   "outputs": [],
   "source": []
  },
  {
   "cell_type": "markdown",
   "metadata": {},
   "source": [
    "-----------------------------------------"
   ]
  },
  {
   "cell_type": "markdown",
   "metadata": {},
   "source": [
    "## DICIONÁRIOS"
   ]
  },
  {
   "cell_type": "markdown",
   "metadata": {},
   "source": [
    "**COMO FAZER**<br>\n",
    "- O primeiro elemento adicionado é o primeiro elemento a sair (first-in, first-out). Para utilizar listas como filas, use a biblioteca `collections.deque` (biblioteca nativa) que possúi métodos feitos para essa aplicação.<br>\n",
    "\n",
    "**EXEMPLO**<br>"
   ]
  },
  {
   "cell_type": "code",
   "execution_count": null,
   "metadata": {},
   "outputs": [],
   "source": []
  },
  {
   "cell_type": "markdown",
   "metadata": {},
   "source": [
    "-----------------------------------------"
   ]
  },
  {
   "cell_type": "markdown",
   "metadata": {},
   "source": [
    "## TAREFA"
   ]
  },
  {
   "cell_type": "code",
   "execution_count": null,
   "metadata": {},
   "outputs": [],
   "source": [
    "\"\"\"  \"\"\"\n",
    "\n",
    "# Escreva seu código abaixo\n"
   ]
  },
  {
   "cell_type": "markdown",
   "metadata": {},
   "source": [
    "-----------------------------------------"
   ]
  }
 ],
 "metadata": {
  "kernelspec": {
   "display_name": "Python 3.10.6 ('aula')",
   "language": "python",
   "name": "python3"
  },
  "language_info": {
   "codemirror_mode": {
    "name": "ipython",
    "version": 3
   },
   "file_extension": ".py",
   "mimetype": "text/x-python",
   "name": "python",
   "nbconvert_exporter": "python",
   "pygments_lexer": "ipython3",
   "version": "3.10.6"
  },
  "orig_nbformat": 4,
  "vscode": {
   "interpreter": {
    "hash": "d6eeed67e8b31e9914d1b8b2a22710732b8ff57f933bb65cfc5e1fb719b027eb"
   }
  }
 },
 "nbformat": 4,
 "nbformat_minor": 2
}
