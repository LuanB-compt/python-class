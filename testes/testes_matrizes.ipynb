{
 "cells": [
  {
   "cell_type": "code",
   "execution_count": 84,
   "metadata": {},
   "outputs": [],
   "source": [
    "import numpy as np # Manipulação de dados e matrizes\n",
    "import math \n",
    "import matplotlib.pyplot as plt # Gráficos\n",
    "import sympy as smp # Cálculo\n",
    "\n",
    "matriz1 = np.array([[1,1],[0,1]])\n",
    "matriz2 = np.array([[2,1],[2,1]])\n",
    "vetor = np.array([[0,1,2,3,4], [0,1,2,3,4]])"
   ]
  },
  {
   "cell_type": "markdown",
   "metadata": {},
   "source": [
    "### MULTIPLICAÇÃO DE MATRIZES"
   ]
  },
  {
   "cell_type": "code",
   "execution_count": 57,
   "metadata": {},
   "outputs": [
    {
     "data": {
      "text/plain": [
       "array([[2, 1],\n",
       "       [0, 1]])"
      ]
     },
     "execution_count": 57,
     "metadata": {},
     "output_type": "execute_result"
    }
   ],
   "source": [
    "multi_matriz = matriz1 * matriz2\n",
    "multi_matriz"
   ]
  },
  {
   "cell_type": "code",
   "execution_count": 58,
   "metadata": {},
   "outputs": [
    {
     "name": "stdout",
     "output_type": "stream",
     "text": [
      "[[0 0]\n",
      " [1 1]\n",
      " [2 2]\n",
      " [3 3]\n",
      " [4 4]]\n",
      "\n",
      " [[ 1. -1.]\n",
      " [ 0.  1.]]\n"
     ]
    }
   ],
   "source": [
    "print(vetor.transpose()) # transposta\n",
    "print('\\n', np.linalg.inv(matriz1)) # inversa"
   ]
  },
  {
   "cell_type": "markdown",
   "metadata": {},
   "source": [
    "### SLICE DE MATRIZES"
   ]
  },
  {
   "cell_type": "code",
   "execution_count": 82,
   "metadata": {},
   "outputs": [
    {
     "name": "stdout",
     "output_type": "stream",
     "text": [
      "[[1 1]\n",
      " [0 1]] \n",
      "\n",
      "[1 1] \n",
      "\n",
      "[0, 1] \n",
      "\n"
     ]
    }
   ],
   "source": [
    "# matriz\n",
    "print(matriz1, '\\n')\n",
    "\n",
    "# index de coluna\n",
    "print(matriz1[:][0], '\\n')\n",
    "\n",
    "# index de linha\n",
    "print(matriz[1], '\\n')"
   ]
  },
  {
   "cell_type": "markdown",
   "metadata": {},
   "source": [
    "### TESTES DE SIMULAÇÃO"
   ]
  },
  {
   "cell_type": "code",
   "execution_count": 77,
   "metadata": {},
   "outputs": [],
   "source": [
    "def simulation(current:str, resistance:float, capacitance:float, sample_time:int, previous_voltage:float) -> float:\n",
    "    expo = math.e**(-sample_time/(resistance*capacitance))\n",
    "    tensao_out = (expo*previous_voltage) + (r*(1-expo)) * current\n",
    "    return tensao_out"
   ]
  },
  {
   "cell_type": "code",
   "execution_count": 62,
   "metadata": {},
   "outputs": [],
   "source": [
    "corrente_in, r, c, ta = 1, 1, 0.5, 0.001\n",
    "\n",
    "time = 0\n",
    "vetor_time = [0]\n",
    "tensao_out = [3]\n",
    "\n",
    "while time <= 5:\n",
    "    tensao_out.append(\n",
    "        simulation(\n",
    "            current=corrente_in,\n",
    "            resistance=r,\n",
    "            capacitance=c,\n",
    "            sample_time=ta,\n",
    "            previous_voltage=tensao_out[-1])\n",
    "    )\n",
    "    time+=ta\n",
    "    vetor_time.append(time)"
   ]
  },
  {
   "cell_type": "code",
   "execution_count": 69,
   "metadata": {},
   "outputs": [
    {
     "data": {
      "text/plain": [
       "<matplotlib.legend.Legend at 0x28a4947f100>"
      ]
     },
     "execution_count": 69,
     "metadata": {},
     "output_type": "execute_result"
    },
    {
     "data": {
      "image/png": "[encoded data removed]",
      "text/plain": [
       "<Figure size 640x480 with 1 Axes>"
      ]
     },
     "metadata": {},
     "output_type": "display_data"
    }
   ],
   "source": [
    "plt.Figure(figsize=(20,10))\n",
    "plt.scatter(vetor_time, tensao_out)\n",
    "plt.title('Simulation Teste')\n",
    "plt.legend('Teste')"
   ]
  }
 ],
 "metadata": {
  "kernelspec": {
   "display_name": "Python 3.10.6 ('aula')",
   "language": "python",
   "name": "python3"
  },
  "language_info": {
   "codemirror_mode": {
    "name": "ipython",
    "version": 3
   },
   "file_extension": ".py",
   "mimetype": "text/x-python",
   "name": "python",
   "nbconvert_exporter": "python",
   "pygments_lexer": "ipython3",
   "version": "3.10.6 | packaged by conda-forge | (main, Oct  7 2022, 20:14:50) [MSC v.1916 64 bit (AMD64)]"
  },
  "orig_nbformat": 4,
  "vscode": {
   "interpreter": {
    "hash": "d6eeed67e8b31e9914d1b8b2a22710732b8ff57f933bb65cfc5e1fb719b027eb"
   }
  }
 },
 "nbformat": 4,
 "nbformat_minor": 2
}
