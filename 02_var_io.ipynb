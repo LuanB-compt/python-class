{
 "cells": [
  {
   "cell_type": "markdown",
   "metadata": {},
   "source": [
    "# **INTRODUAÇÃO A PYTHON 2 (VARIÁVEIS E I/O)**"
   ]
  },
  {
   "cell_type": "markdown",
   "metadata": {},
   "source": [
    "### **TÓPICOS A ESTUDAR:**"
   ]
  },
  {
   "cell_type": "markdown",
   "metadata": {},
   "source": [
    "- Declaração de variáveis\n",
    "    - O que são variáveis\n",
    "    - Sintaxe\n",
    "    - Exemplos<br><br>\n",
    "- Funções e Python:\n",
    "    - O que são funções\n",
    "    - Funções nativas do Python\n",
    "    - Exemplos<br><br>\n",
    "- Introdução a alguns comandos\n",
    "    - `print()`\n",
    "    - `input()`\n",
    "    - Trabalhar com tipos de variáveis\n",
    "    - Exemplos<br><br>\n",
    "- Tarefa"
   ]
  },
  {
   "cell_type": "markdown",
   "metadata": {},
   "source": [
    "-----------------------------------------"
   ]
  },
  {
   "cell_type": "markdown",
   "metadata": {},
   "source": [
    "## DECLARAÇÃO DE VARIÁVEIS"
   ]
  },
  {
   "cell_type": "markdown",
   "metadata": {},
   "source": [
    "**O QUE SÃO VARIÁVEIS**<br>\n",
    "- Os algoritmos e programas escritos em uma linguagem de programação, muitas vezes possuem dados que precisam ser guardados durante a execução do programa. Variáveis então, são utilizadas para armazenar valores e para dar nome a uma área de memória do computador onde armazenamos os dados. <br><br>\n",
    "- Para armazenar algo na memória, usaremos o símbolo de igualdade (`=`) entre o nome do compartimento e o valor que queremos armazenar. Chamaremos essa operação de **atribuição**, onde um valor é atribuído a uma variável.<br><br>\n",
    "- OBS: Em Python, nomes de variáveis devem iniciar obrigatoriamente com uma letra.<br>\n",
    "\n",
    "|     NOME    | VÁLIDO |COMENTÁRIOS |\n",
    "| ----------- | ------ | ---------- |\n",
    "|a1           |   SIM  | Embora contenha um número, o nome a1 inicia com letra |\n",
    "|velocidade   |   SIM  | Nome formado por letras |\n",
    "|velocidade90 |   SIM  | Nome formado por letras e números, mas iniciado por letra |\n",
    "|salário_médio|   SIM  | O símbolo sublinha ( `_` ) é permitido e facilita a leitura de nomes grandes |\n",
    "|salário médio|   NÃO  | Nomes de variáveis não podem conter espaços em branco |\n",
    "|_b           |   SIM  | O underscore ( `_` ) é aceito em nomes de variáveis, mesmo no início |\n",
    "|1a           |   NÃO  | Nomes de variáveis não podem começar com números |\n",
    "\n",
    "<br>\n",
    "\n",
    "**SINTAXE**<br>\n",
    "- `nome_variavel = valor_atribuído`<br><br>\n",
    "\n",
    "**EXEMPLO**<br>"
   ]
  },
  {
   "cell_type": "code",
   "execution_count": 14,
   "metadata": {},
   "outputs": [
    {
     "name": "stdout",
     "output_type": "stream",
     "text": [
      "n1 = 8\n",
      "n2 = 5\n",
      "divisão = 1.6\n",
      "multiplicação = 40\n"
     ]
    }
   ],
   "source": [
    "n1 = 8\n",
    "n2 = 5\n",
    "\n",
    "divisão = n1/n2\n",
    "multiplicacao = n1*n2\n",
    "\n",
    "print(f'n1 = {n1}\\nn2 = {n2}\\ndivisão = {divisão}\\nmultiplicação = {multiplicacao}')"
   ]
  },
  {
   "cell_type": "markdown",
   "metadata": {},
   "source": [
    "-----------------------------------------"
   ]
  },
  {
   "cell_type": "markdown",
   "metadata": {},
   "source": [
    "## FUNÇÕES E PYTHON"
   ]
  },
  {
   "cell_type": "markdown",
   "metadata": {},
   "source": [
    "**O QUE SÃO FUNÇÕES**<br>\n",
    "- As funções são algoritmos 'encapsulados' que podem ser chamados em qualquer trecho do programa. Eles servem para otimizar a quantidade de linhas e facilitar o desenvolvimento. A função pode ou não retornar um valor, e esse valor pode ser salvo em uma variável, etc... Muitas funções necessitam de dados de entrada, e essas informações são passadas pelos **parâmetros** da função como **argumentos**. Argumentos, são as entradas que o algoritmo da função recebe, e esses argumentos ficam dentro do parênteses, ou seja, os valores de input são passados dentro do parênteses da função. <br><br>\n",
    "\n",
    "**FUNÇÕES NATIVAS DO PYTHON**<br>\n",
    "- Muitas linguagens de programação possuem funções nativas, ou seja, são funções que não é necessário importar nenhuma biblioteca, pois a própria linguagem já carrega elas. E no Python, há muitas funções que são nativas, como `print()`, `input()`, `len()`, entre muitas outras. Por enquanto, vamos apenas trabalhar com as funções nativas do Python, mas posteriormente vamos ver como criar funções próprias para organizar e otimizar melhor o código.<br><br>\n",
    "\n",
    "**SINTAXE**<br>\n",
    "- Em programação, quando vamos usar uma função no código, dizemos que vamos **chamar** a função. Para chamar uma função, a sintaxe é:<br> \n",
    "`nome_funcao(argumento1=x, argumento2=y, argumentoN=n, ...)`<br><br>\n",
    "\n",
    "**EXEMPLO**"
   ]
  },
  {
   "cell_type": "code",
   "execution_count": 17,
   "metadata": {},
   "outputs": [
    {
     "name": "stdout",
     "output_type": "stream",
     "text": [
      "Qual seu nome?\n",
      "Seu nome é: luan\n"
     ]
    }
   ],
   "source": [
    "print(\"Qual seu nome?\")\n",
    "nome = input()\n",
    "print(\"Seu nome é:\", nome)"
   ]
  },
  {
   "cell_type": "code",
   "execution_count": 19,
   "metadata": {},
   "outputs": [
    {
     "name": "stdout",
     "output_type": "stream",
     "text": [
      "Tamanho da lista é: 10\n",
      "[0, 1, 2, 3, 4, 5, 6, 7, 8, 9]\n"
     ]
    }
   ],
   "source": [
    "lista = [i for i in range(10)]\n",
    "print(\"Tamanho da lista é:\", len(lista))\n",
    "print(lista)"
   ]
  },
  {
   "cell_type": "markdown",
   "metadata": {},
   "source": [
    "**OBSERVAÇÃO**<br>\n",
    "- O Python é uma linguagem chamada 'Case Sensitive', ou seja, o interpretador do Python diferencia letras minúsculas das maiúsculas. Então uma variável de nome `numero` é diferente de `Numero`, ou `NUMERO`. E a mesma ideia é aplicado para as funções, etc..."
   ]
  },
  {
   "cell_type": "markdown",
   "metadata": {},
   "source": [
    "-----------------------------------------"
   ]
  },
  {
   "cell_type": "markdown",
   "metadata": {},
   "source": [
    "## INTRODUÇÃO A ALGUNS COMANDOS"
   ]
  },
  {
   "cell_type": "markdown",
   "metadata": {},
   "source": [
    "**`print()`**<br>\n",
    "- Essa função é usada para mostrar qualquer tipo de valor na tela. Como primeiro e principal argumento, ela recebe o que será mostrado.<br><br>\n",
    "\n",
    "**EXEMPLO**<br>\n",
    "Há algumas formas de mostrar valores na tela, aqui está algumas das mais usadas:"
   ]
  },
  {
   "cell_type": "code",
   "execution_count": 27,
   "metadata": {},
   "outputs": [
    {
     "name": "stdout",
     "output_type": "stream",
     "text": [
      "O resultado da sua equação é: 1985\n",
      "O resultado da sua equação é: 1985, 1985\n",
      "O resultado da sua equação é: 1985\n",
      "\t O resultado da sua equação é: 1985 \n",
      "\n",
      "O resultado da sua equação é: o valor é 1985\n"
     ]
    }
   ],
   "source": [
    "x = 1985\n",
    "print(\"O resultado da sua equação é:\", x)\n",
    "print(f\"O resultado da sua equação é: {x}, {x}\")\n",
    "print(\"O resultado da sua equação é: \" + str(x))\n",
    "print(\"\\t\", \"O resultado\", \"da sua equação é:\", x, \"\\n\")\n",
    "print(\"O resultado da sua equação é\", x, sep=': o valor é ') # Utilizando parâmetro 'sep'"
   ]
  },
  {
   "cell_type": "markdown",
   "metadata": {},
   "source": [
    "**`input()`**<br>\n",
    "- Essa função é usada para receber valores do usuário. Como único argumento, ela pode recceber uma string que representa uma mensagem que o usuário vai ler para saber o que insirir para o programa<br><br>\n",
    "\n",
    "**EXEMPLOS**<br>"
   ]
  },
  {
   "cell_type": "code",
   "execution_count": 28,
   "metadata": {},
   "outputs": [
    {
     "name": "stdout",
     "output_type": "stream",
     "text": [
      "89\n",
      "aula\n"
     ]
    }
   ],
   "source": [
    "x = input()\n",
    "y = input(\"Insira uma valor: \")\n",
    "\n",
    "print(x)\n",
    "print(y)"
   ]
  },
  {
   "cell_type": "markdown",
   "metadata": {},
   "source": [
    "**TRABALHAR COM TIPOS DE VARIÁVEIS**<br>\n",
    "- OBS: A maior parte das linguagens de programação foi desenvolvida nos Estados Unidos, ou considerando apenas a gramática da língua inglesa. Por isso, acentos e letras \"especiais\" não são aceitos como nomes válidos na maior parte das linguagens de programação. Essa restrição é um problema não só para falantes do português, mas de muitas outras línguas que utilizam acentos ou mesmo outros alfabetos. O padrão americano é baseado no conjunto de caracteres [ASCII]( http://pt.wikipedia.org/wiki/Ascii), desenvolvido na década de 1960.<br>\n",
    "\n",
    "- Uma variável é **numérica** quando ela armazena números **inteiros** ou de **ponto flutuante**. Os inteiros são aqueles sem parte decimal (EX: 0, -99, 16589, ...). Já os de ponto flutuante ou decimal, são aqueles que possuem casas depois da vírgula (EX: 1.0, -99.55, 654.0008, ...).<br>\n",
    "\n",
    "- Muitas vezes, apenas é necessário armazenar um conteúdo simples: verdadeiro ou falso em uma variável. Para isso é utlizado um tipo de variável **lógico** ou **booleano**. Em Python, escrevemos `True` para verdadeiro e `False` para falso.<br>\n",
    "\n",
    "- Variáveis do tipo `string` armazenam cadeias de **caracteres** como nomes e textos em geral. Chamamos cadeia de caracteres uma sequência de símbolos como letras, números, sinais de pontuação etc. Exemplo: \"João e Maria\". Nesse caso, João é uma sequência com as letras 'J', 'o', 'ã', 'o'. Para simplifcar o texto, utilizaremos o nome `string` para mencionar cadeias de caracteres. Podemos imaginar uma string como uma sequência de blocos, onde cada letra, número ou espaço em branco ocupa uma posição (lista de caracteres). EXEMPLO: <br>\n",
    " ------------- STRING ------------- <br>\n",
    "| J | o | ã | o |    | e |    | M | a | r | i | a |<br><br>\n",
    "\n",
    "**CONVERSÃO DO TIPO DA VARIÁVEL**<br>\n",
    "- É possível converter variáveis de um certo tipo, para um outro tipo. Irão existir casos e momentos que será necessário utilizar esse recurso, como por exemplo, no momento de receber valores digitados pelo usuário com a função `ìnput()`, já que essa função sempre retorna os valores como `string`.<br>\n",
    "\n",
    "- Para variáveis do tipo `string`, caso elas apenas contenham um número, é possível converter para uma variável numérica, utlizando a função `int()` ou `float()`. Do mesmo modo é possível converter uma variável numérica para caracter utlizando a função `str()`.\n",
    "<br><br>\n",
    "\n",
    "**SINTAXE**<br>\n",
    "- Declaração de variáveis de tipos diferentes:\n",
    "```\n",
    "    var_num = numero (inteiro ou ponto flutuante)\n",
    "    var_booleana = True ou False\n",
    "    var_string = \"texto\"\n",
    "```\n",
    "<br>\n",
    "\n",
    "- Usando funções de conversão de tipo da variável:\n",
    "```\n",
    "    int(variavel)\n",
    "    float(variavel)\n",
    "    str(variavel)\n",
    "    bool(variavel)\n",
    "```\n",
    "\n",
    "<br>\n",
    "\n",
    "**EXEMPLOS**<br>"
   ]
  },
  {
   "cell_type": "code",
   "execution_count": null,
   "metadata": {},
   "outputs": [],
   "source": [
    "# Tipos de variáveis\n",
    "var_int = 0\n",
    "var_float = -8.65780000\n",
    "var_bool = True\n",
    "var_string = \"Aula de Python =)\"\n",
    "\n",
    "print(\"var_int:\", var_int)\n",
    "print(\"var_float:\", var_float)\n",
    "print(\"var_bool:\", var_bool)\n",
    "print(\"var_string:\", var_string)\n",
    "\n",
    "# Convertendo tipos de variáveis\n",
    "print(f\"\\n{int(var_bool)}\")\n",
    "print(float(var_int))\n",
    "print(str(var_float))\n",
    "print(bool(var_int))\n",
    "print(int(var_string))"
   ]
  },
  {
   "cell_type": "markdown",
   "metadata": {},
   "source": [
    "-----------------------------------------"
   ]
  },
  {
   "cell_type": "markdown",
   "metadata": {},
   "source": [
    "## TAREFA"
   ]
  },
  {
   "cell_type": "code",
   "execution_count": 38,
   "metadata": {},
   "outputs": [
    {
     "name": "stdout",
     "output_type": "stream",
     "text": [
      "*** PROGRAMA DE SOMA ***\n",
      "O resultado da soma entre os valores é: 11\n"
     ]
    }
   ],
   "source": [
    "\"\"\"COMPLETE O PROGRAMA, MOSTRANDO O RESULTADO PARA O USUÁRIO DA SOMA ENTRE OS NÚMEROS DE ENTRADA\"\"\"\n",
    "\n",
    "# Algoritmo\n",
    "print(\"*** PROGRAMA DE SOMA ***\")\n",
    "\n",
    "#number1 = input('Por favor, digite um valor qualquer: ')\n",
    "#number2 = input('Por favor, digite um valor qualquer: ')\n",
    "\n",
    "print(f\"O resultado da soma entre os valores é: {int(input()) + int(input())}\")"
   ]
  },
  {
   "cell_type": "code",
   "execution_count": 59,
   "metadata": {},
   "outputs": [
    {
     "name": "stdout",
     "output_type": "stream",
     "text": [
      "O seu salário receberá um aumento de 50 por cento!\n",
      "Portanto agora você receberá R$150.00\n"
     ]
    }
   ],
   "source": [
    "\"\"\"CRIE UM ALGORITMO QUE CÁLCULA UM AUMENTO DE 50% NO SALÁRIO DO USUÁRIO\"\"\"\n",
    "\n",
    "# Escreva aqui abaixo\n",
    "salario = input(\"Insira seu salário: \")\n",
    "print(\"O seu salário receberá um aumento de 50 por cento!\\nPortanto agora você receberá R$%.2f\" %(float(salario)*1.5))"
   ]
  },
  {
   "cell_type": "markdown",
   "metadata": {},
   "source": [
    "-----------------------------------------"
   ]
  }
 ],
 "metadata": {
  "kernelspec": {
   "display_name": "Python 3.9.7 ('base')",
   "language": "python",
   "name": "python3"
  },
  "language_info": {
   "codemirror_mode": {
    "name": "ipython",
    "version": 3
   },
   "file_extension": ".py",
   "mimetype": "text/x-python",
   "name": "python",
   "nbconvert_exporter": "python",
   "pygments_lexer": "ipython3",
   "version": "3.9.7"
  },
  "orig_nbformat": 4,
  "vscode": {
   "interpreter": {
    "hash": "ad2bdc8ecc057115af97d19610ffacc2b4e99fae6737bb82f5d7fb13d2f2c186"
   }
  }
 },
 "nbformat": 4,
 "nbformat_minor": 2
}
