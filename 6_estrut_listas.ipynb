{
 "cells": [
  {
   "cell_type": "markdown",
   "metadata": {},
   "source": [
    "# **PYTHON 6 ESTRUTURA DE DADOS (LISTAS)**"
   ]
  },
  {
   "cell_type": "markdown",
   "metadata": {},
   "source": [
    "### **TÓPICOS A ESTUDAR:**"
   ]
  },
  {
   "cell_type": "markdown",
   "metadata": {},
   "source": [
    "- Métodos\n",
    "    - Métodos de Listas\n",
    "    - Sintaxe\n",
    "    - Exemplos<br><br>\n",
    "- Listas como pilhas\n",
    "    - Como fazer\n",
    "    - Exemplos<br><br>\n",
    "- Listas como filas\n",
    "    - Como fazer\n",
    "    - Exemplos<br><br>\n",
    "- Comando del\n",
    "    - O que é\n",
    "    - Exemplos<br><br>\n",
    "- Tarefa"
   ]
  },
  {
   "cell_type": "markdown",
   "metadata": {},
   "source": [
    "-----------------------------------------"
   ]
  },
  {
   "cell_type": "markdown",
   "metadata": {},
   "source": [
    "## MÉTODOS"
   ]
  },
  {
   "cell_type": "markdown",
   "metadata": {},
   "source": [
    "**MÉTODOS DE LISTAS**<br>\n",
    "- `list.append(x)`: adiciona um item ao final da lista.\n",
    "- `list.extend(iterable)`: amplia a lista , anexando todos os elementos ao final da lista.\n",
    "- `list.insert(i, x)`: insere um elemento em uma posição específica.\n",
    "- `list.remove(x)`: remove o primeiro elemento que tem valor igual a `x`.\n",
    "- `list.pop([i])`: remove o elemento na posição específica e retorna. Se nenhum índice for especificado, o método retorna o último elemento que tem valor igual a `x`.\n",
    "- `list.clear()`: remove remove todos os elementos da lista.\n",
    "- `list.index(x[, start[, end]])`: retorna o índice de um elemento específico na lista (`start` e `end` são notações de slice, para limitar a busca na lista).\n",
    "- `list.count(x)`: retorna o número de vezes que `x` aparece na lista.\n",
    "- `list.sort(*, key=None, reverse=False)`: organiza os elementos da lista em crescente ou decrescente.\n",
    "- `list.reverse()`: inverte os elementos de posição.\n",
    "- `list.copy()`: retorna uma cópia da lista.\n",
    "<br>\n",
    "\n",
    "**SINTAXE TO LIST**<br>\n",
    "```\n",
    "nome = []\n",
    "```\n",
    "<br>\n",
    "\n",
    "**EXEMPLO**<br>"
   ]
  },
  {
   "cell_type": "code",
   "execution_count": null,
   "metadata": {},
   "outputs": [],
   "source": [
    "lista = [0, 1, 'luan', 'bruno']\n",
    "lista.append('aula')\n",
    "lista"
   ]
  },
  {
   "cell_type": "code",
   "execution_count": null,
   "metadata": {},
   "outputs": [],
   "source": [
    "lista = [0, 1, 'luan', 'bruno']\n",
    "lista.extend(['a', 1, True])\n",
    "print(lista)\n",
    "lista.extend('2022')\n",
    "print(lista)"
   ]
  },
  {
   "cell_type": "code",
   "execution_count": null,
   "metadata": {},
   "outputs": [],
   "source": [
    "lista = [0, 1, 'luan', 'bruno']\n",
    "lista.insert(2, True)\n",
    "lista"
   ]
  },
  {
   "cell_type": "code",
   "execution_count": null,
   "metadata": {},
   "outputs": [],
   "source": [
    "lista = [0, 1, 'luan', 'bruno']\n",
    "lista.remove('bruno')\n",
    "lista"
   ]
  },
  {
   "cell_type": "code",
   "execution_count": null,
   "metadata": {},
   "outputs": [],
   "source": [
    "lista = [0, 1, 'luan', 'bruno']\n",
    "resultado = lista.pop(-1)\n",
    "resultado"
   ]
  },
  {
   "cell_type": "code",
   "execution_count": null,
   "metadata": {},
   "outputs": [],
   "source": [
    "lista = [0, 1, 'luan', 'bruno']\n",
    "lista.clear()\n",
    "lista"
   ]
  },
  {
   "cell_type": "code",
   "execution_count": null,
   "metadata": {},
   "outputs": [],
   "source": [
    "lista = [0, 1, 'luan', 'bruno', True, '2022', 1]\n",
    "print(lista.index(1))\n",
    "print(lista.index(1, 2, len(lista)))"
   ]
  },
  {
   "cell_type": "code",
   "execution_count": null,
   "metadata": {},
   "outputs": [],
   "source": [
    "lista = [0, 1, 'luan', 'bruno', True, '2022', 1]\n",
    "resultado = lista.count(1)\n",
    "resultado"
   ]
  },
  {
   "cell_type": "code",
   "execution_count": null,
   "metadata": {},
   "outputs": [],
   "source": [
    "lista = [5, 4, 8, 7, 0]\n",
    "lista.sort()\n",
    "lista"
   ]
  },
  {
   "cell_type": "code",
   "execution_count": null,
   "metadata": {},
   "outputs": [],
   "source": [
    "lista = [0, 1, 'luan', 'bruno']\n",
    "lista.reverse()\n",
    "lista"
   ]
  },
  {
   "cell_type": "code",
   "execution_count": null,
   "metadata": {},
   "outputs": [],
   "source": [
    "lista = [0, 1, 'luan', 'bruno']\n",
    "lista2 = lista.copy()\n",
    "lista2.append(64**(1/2))\n",
    "lista2\n"
   ]
  },
  {
   "cell_type": "markdown",
   "metadata": {},
   "source": [
    "-----------------------------------------"
   ]
  },
  {
   "cell_type": "markdown",
   "metadata": {},
   "source": [
    "## LISTAS COMO PILHAS"
   ]
  },
  {
   "cell_type": "markdown",
   "metadata": {},
   "source": [
    "**COMO FAZER**<br>\n",
    "- O último elemento adicioando é o primeiro a sair (last-in, first-out). Para adicionar, basta usar `list.append(x)`, e para pegar último elemento adicionado, basta usar o método `list.pop()` sem argumentos.<br>\n",
    "\n",
    "**EXEMPLO**<br>"
   ]
  },
  {
   "cell_type": "code",
   "execution_count": null,
   "metadata": {},
   "outputs": [],
   "source": [
    "pilha = [1, 2, 81]\n",
    "pilha.append(1/2)\n",
    "print(pilha)\n",
    "pilha.pop()\n",
    "print(pilha)"
   ]
  },
  {
   "cell_type": "markdown",
   "metadata": {},
   "source": [
    "-----------------------------------------"
   ]
  },
  {
   "cell_type": "markdown",
   "metadata": {},
   "source": [
    "## LISTAS COMO FILAS"
   ]
  },
  {
   "cell_type": "markdown",
   "metadata": {},
   "source": [
    "**COMO FAZER**<br>\n",
    "- O primeiro elemento adicionado é o primeiro elemento a sair (first-in, first-out). Para utilizar listas como filas, use a biblioteca `collections.deque` (biblioteca nativa) que possúi métodos feitos para essa aplicação.<br>\n",
    "\n",
    "**EXEMPLO**<br>"
   ]
  },
  {
   "cell_type": "code",
   "execution_count": null,
   "metadata": {},
   "outputs": [],
   "source": [
    "from collections import deque\n",
    "fila = deque(['Rota', '2030', 'Python'])\n",
    "fila.append('Filas')\n",
    "print(fila)\n",
    "fila.popleft()\n",
    "print(fila)"
   ]
  },
  {
   "cell_type": "markdown",
   "metadata": {},
   "source": [
    "-----------------------------------------"
   ]
  },
  {
   "cell_type": "markdown",
   "metadata": {},
   "source": [
    "## COMANDO DEL"
   ]
  },
  {
   "cell_type": "markdown",
   "metadata": {},
   "source": [
    "**O QUE É**<br>\n",
    "- É um jeito de remover um elemento da lista apenas passando o índice do elemento, ou até um slice.<br>\n",
    "\n",
    "**EXEMPLO**"
   ]
  },
  {
   "cell_type": "code",
   "execution_count": null,
   "metadata": {},
   "outputs": [],
   "source": [
    "lista = [0, 1, 'luan', 'bruno']\n",
    "del lista[2]\n",
    "del lista[2]\n",
    "lista"
   ]
  },
  {
   "cell_type": "markdown",
   "metadata": {},
   "source": [
    "-----------------------------------------"
   ]
  },
  {
   "cell_type": "markdown",
   "metadata": {},
   "source": [
    "## TAREFA"
   ]
  },
  {
   "cell_type": "code",
   "execution_count": null,
   "metadata": {},
   "outputs": [],
   "source": [
    "\"\"\"DADO UMA PILHA E UMA LISTA, FAÇA UM ALGORITMO QUE DESCUBRA QUAL DELAS É MAIOR. SE HOUVER UMA MAIOR, ENTÃO UTILIZE A RESPECTIVA\n",
    "TÉCNICA PARA REMOVER ELEMENTOS DA LISTA MAIOR ATÉ IGUALAR; CASO FOR IGUAL AVISE O USUÁRIO QUE SÃO DO MESMO TAMANHO\"\"\"\n",
    "\n",
    "from collections import deque\n",
    "\n",
    "pilha = [0, 9, 56, False, 'False', True]\n",
    "queue = deque(['Python', 'Java', 2022, True])\n",
    "\n",
    "# Escreva seu código abaixo\n"
   ]
  },
  {
   "cell_type": "markdown",
   "metadata": {},
   "source": [
    "-----------------------------------------"
   ]
  }
 ],
 "metadata": {
  "kernelspec": {
   "display_name": "Python 3.10.6 ('aula')",
   "language": "python",
   "name": "python3"
  },
  "language_info": {
   "codemirror_mode": {
    "name": "ipython",
    "version": 3
   },
   "file_extension": ".py",
   "mimetype": "text/x-python",
   "name": "python",
   "nbconvert_exporter": "python",
   "pygments_lexer": "ipython3",
   "version": "3.10.6"
  },
  "orig_nbformat": 4,
  "vscode": {
   "interpreter": {
    "hash": "d6eeed67e8b31e9914d1b8b2a22710732b8ff57f933bb65cfc5e1fb719b027eb"
   }
  }
 },
 "nbformat": 4,
 "nbformat_minor": 2
}
