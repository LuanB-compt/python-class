{
 "cells": [
  {
   "cell_type": "markdown",
   "metadata": {},
   "source": [
    "# **PYTHON 14 PROG. ORIENTADA A OBJETOS (parte 2)**"
   ]
  },
  {
   "cell_type": "markdown",
   "metadata": {},
   "source": [
    "### **TÓPICOS A ESTUDAR:**"
   ]
  },
  {
   "cell_type": "markdown",
   "metadata": {},
   "source": [
    "- Encapsulamento\n",
    "    - O que é\n",
    "    - Sintaxe\n",
    "    - Exemplos\n",
    "- Herança\n",
    "    - O que é\n",
    "    - Sintaxe\n",
    "    - Exemplos<br><br>\n",
    "- Tarefa"
   ]
  },
  {
   "cell_type": "markdown",
   "metadata": {},
   "source": [
    "-----------------------------------------"
   ]
  },
  {
   "cell_type": "markdown",
   "metadata": {},
   "source": [
    "## ENCAPSULAMENTO"
   ]
  },
  {
   "cell_type": "markdown",
   "metadata": {},
   "source": [
    "**O QUE É**<br>\n",
    "- Encapsulamento é um dos pilares da programação orientada a objetos, segundo o qual procuramos **esconder** de clientes (usuários de uma classe) todas as informação que não são necessárias ao uso da classe.\n",
    "<br>\n",
    "\n",
    "**SINTAXE**<br>\n",
    "- Java e C++ existe a palavra-chave private para indicar que um dado ou método não é visível fora da classe. Em Python, existe uma convenção de que dados ou métodos cujo nome começa com _ (**dois underscores**) não deveriam ser acessados fora da classe\n",
    "<br>\n",
    "\n",
    "**EXEMPLO**<br>"
   ]
  },
  {
   "cell_type": "code",
   "execution_count": null,
   "metadata": {},
   "outputs": [],
   "source": [
    "class Funcionario:\n",
    "    def __init__(self, nome, cargo, horas_dia):\n",
    "        self.__nome = nome\n",
    "        self.__cargo = cargo\n",
    "        self.__horas_dia = horas_dia\n",
    "        if cargo == 'Gerente':\n",
    "            self.__valor_hora_trabalhada = 25\n",
    "        else:\n",
    "            self.__valor_hora_trabalhada = 14\n",
    "        self.__salario = self.__calcula_salario()\n",
    "\n",
    "\n",
    "    def get_nome(self):\n",
    "        return self.__nome\n",
    "    def get_cargo(self):\n",
    "        return self.__cargo\n",
    "    def get_horas_dia(self):\n",
    "        return self.__horas_dia\n",
    "    def get_salario(self):\n",
    "        return self.__salario\n",
    "\n",
    "    def set_nome(self, nome):\n",
    "        self.__nome = nome\n",
    "    def set_cargo(self, cargo):\n",
    "        self.__cargo = cargo\n",
    "    def set_horas_dia(self, horas_dia):\n",
    "        self.__horas_dia = horas_dia\n",
    "    def __set_valor_hora_trabalhada(self, valor_hora_trabalhada):\n",
    "        self.__valor_hora_trabalhada = valor_hora_trabalhada\n",
    "        self.__salario = self.__calcula_salario()\n",
    "\n",
    "\n",
    "    def __calcula_salario(self):\n",
    "        return round((self.__valor_hora_trabalhada * self.__horas_dia)*20, 2)"
   ]
  },
  {
   "cell_type": "code",
   "execution_count": null,
   "metadata": {},
   "outputs": [],
   "source": [
    "fun = Funcionario(nome='Luan', cargo='Gerente', horas_dia=8.8)\n",
    "fun.get_salario()"
   ]
  },
  {
   "cell_type": "markdown",
   "metadata": {},
   "source": [
    "-----------------------------------------"
   ]
  },
  {
   "cell_type": "markdown",
   "metadata": {},
   "source": [
    "## HERANÇA"
   ]
  },
  {
   "cell_type": "markdown",
   "metadata": {},
   "source": [
    "**O QUE É**<br>\n",
    "- A Herança é um conceito do paradigma da orientação à objetos que determina que uma classe (filha) pode herdar atributos e métodos de uma outra classe (mãe), e assim, evitar que haja muita repetição de código e contribuindo para que se possa criar novas relações de hierarquias entre os objetos.\n",
    "<br>\n",
    "\n",
    "**SINTAXE**<br>\n",
    "```\n",
    "class filho(classe mae):\n",
    "```\n",
    "\n",
    "**EXEMPLO**<br>"
   ]
  },
  {
   "cell_type": "code",
   "execution_count": null,
   "metadata": {},
   "outputs": [],
   "source": [
    "class Animal():\n",
    "    def __init__(self, nome, cor, sexo):\n",
    "        self.__nome = nome\n",
    "        self.__cor = cor\n",
    "        self.__sexo = sexo\n",
    "\n",
    "    def apresenta_animal(self):\n",
    "        print('- Nome:', self.__nome)\n",
    "        print('- Cor:', self.__cor)\n",
    "        if self.__sexo==1:\n",
    "            print('- Sexo: Fêmea')\n",
    "        else:\n",
    "            print('- Sexo: Macho')"
   ]
  },
  {
   "cell_type": "code",
   "execution_count": null,
   "metadata": {},
   "outputs": [],
   "source": [
    "class Cachorro(Animal):\n",
    "    def __init__(self, nome, cor, sexo, raca):\n",
    "        super().__init__(nome=nome, cor=cor, sexo=sexo)\n",
    "        self.__raca = raca\n",
    "    \n",
    "    def apresenta_cachorro(self):\n",
    "        print('Animal: Cachorro')\n",
    "        print('- Raça:', self.__raca)\n",
    "        super().apresenta_animal()"
   ]
  },
  {
   "cell_type": "code",
   "execution_count": null,
   "metadata": {},
   "outputs": [],
   "source": [
    "dog1 = Cachorro(nome='Fafa', cor='Preto e Branco', sexo=0, raca='Dalmata')\n",
    "dog1.apresenta_cachorro()"
   ]
  },
  {
   "cell_type": "markdown",
   "metadata": {},
   "source": [
    "-----------------------------------------"
   ]
  },
  {
   "cell_type": "markdown",
   "metadata": {},
   "source": [
    "## TAREFA"
   ]
  },
  {
   "cell_type": "code",
   "execution_count": null,
   "metadata": {},
   "outputs": [],
   "source": [
    "\"\"\"CRIE UM OBJETO ALUNO QUE TEM COMO CLASSE MÃE UM OBJETO PESSOA E APLIQUE OS CONCEITOS DE ENCAPSULAMENTO\"\"\"\n",
    "\n",
    "# Escreva aqui abaixo\n"
   ]
  },
  {
   "cell_type": "markdown",
   "metadata": {},
   "source": [
    "-----------------------------------------"
   ]
  }
 ],
 "metadata": {
  "kernelspec": {
   "display_name": "Python 3.10.6 ('aula')",
   "language": "python",
   "name": "python3"
  },
  "language_info": {
   "codemirror_mode": {
    "name": "ipython",
    "version": 3
   },
   "file_extension": ".py",
   "mimetype": "text/x-python",
   "name": "python",
   "nbconvert_exporter": "python",
   "pygments_lexer": "ipython3",
   "version": "3.10.6 | packaged by conda-forge | (main, Oct  7 2022, 20:14:50) [MSC v.1916 64 bit (AMD64)]"
  },
  "orig_nbformat": 4,
  "vscode": {
   "interpreter": {
    "hash": "d6eeed67e8b31e9914d1b8b2a22710732b8ff57f933bb65cfc5e1fb719b027eb"
   }
  }
 },
 "nbformat": 4,
 "nbformat_minor": 2
}
