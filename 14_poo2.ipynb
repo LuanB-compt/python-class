{
 "cells": [
  {
   "cell_type": "markdown",
   "metadata": {},
   "source": [
    "# **PYTHON 14 PROG. ORIENTADA A OBJETOS (parte 2)**"
   ]
  },
  {
   "cell_type": "markdown",
   "metadata": {},
   "source": [
    "### **TÓPICOS A ESTUDAR:**"
   ]
  },
  {
   "cell_type": "markdown",
   "metadata": {},
   "source": [
    "- Encapsulamento\n",
    "    - O que é\n",
    "    - Sintaxe\n",
    "    - Exemplos\n",
    "- Polimorfismo\n",
    "    - O que é\n",
    "    - Sintaxe\n",
    "    - Exemplos<br><br>\n",
    "- Tarefa"
   ]
  },
  {
   "cell_type": "markdown",
   "metadata": {},
   "source": [
    "-----------------------------------------"
   ]
  },
  {
   "cell_type": "markdown",
   "metadata": {},
   "source": [
    "## ENCAPSULAMENTO"
   ]
  },
  {
   "cell_type": "markdown",
   "metadata": {},
   "source": [
    "**O QUE É**<br>\n",
    "- Encapsulamento é um dos pilares da programação orientada a objetos, segundo o qual procuramos **esconder** de clientes (usuários de uma classe) todas as informação que não são necessárias ao uso da classe.\n",
    "<br>\n",
    "\n",
    "**SINTAXE**<br>\n",
    "- Java e C++ existe a palavra-chave private para indicar que um dado ou método não é visível fora da classe. Em Python, existe uma convenção de que dados ou métodos cujo nome começa com _ (**dois underscores**) não deveriam ser acessados fora da classe\n",
    "<br>\n",
    "\n",
    "**EXEMPLO**<br>"
   ]
  },
  {
   "cell_type": "code",
   "execution_count": 22,
   "metadata": {},
   "outputs": [],
   "source": [
    "class Funcionario:\n",
    "    def __init__(self, nome, cargo, horas_dia):\n",
    "        self.__nome = nome\n",
    "        self.__cargo = cargo\n",
    "        self.__horas_dia = horas_dia\n",
    "        if cargo == 'Gerente':\n",
    "            self.__valor_hora_trabalhada = 25\n",
    "        else:\n",
    "            self.__valor_hora_trabalhada = 14\n",
    "        self.__salario = self.__calcula_salario()\n",
    "\n",
    "\n",
    "    def get_nome(self):\n",
    "        return self.__nome\n",
    "    def get_cargo(self):\n",
    "        return self.__cargo\n",
    "    def get_horas_dia(self):\n",
    "        return self.__horas_dia\n",
    "    def get_salario(self):\n",
    "        return self.__salario\n",
    "\n",
    "    def set_nome(self, nome):\n",
    "        self.__nome = nome\n",
    "    def set_cargo(self, cargo):\n",
    "        self.__cargo = cargo\n",
    "    def set_horas_dia(self, horas_dia):\n",
    "        self.__horas_dia = horas_dia\n",
    "    def __set_valor_hora_trabalhada(self, valor_hora_trabalhada):\n",
    "        self.__valor_hora_trabalhada = valor_hora_trabalhada\n",
    "        self.__salario = self.__calcula_salario()\n",
    "\n",
    "\n",
    "    def __calcula_salario(self):\n",
    "        return round((self.__valor_hora_trabalhada * self.__horas_dia)*20, 2)"
   ]
  },
  {
   "cell_type": "code",
   "execution_count": 23,
   "metadata": {},
   "outputs": [
    {
     "data": {
      "text/plain": [
       "4400.0"
      ]
     },
     "execution_count": 23,
     "metadata": {},
     "output_type": "execute_result"
    }
   ],
   "source": [
    "fun = Funcionario(nome='Luan', cargo='Gerente', horas_dia=8.8)\n",
    "fun.get_salario()"
   ]
  },
  {
   "cell_type": "markdown",
   "metadata": {},
   "source": [
    "-----------------------------------------"
   ]
  },
  {
   "cell_type": "markdown",
   "metadata": {},
   "source": [
    "## POLIMORFISMO"
   ]
  },
  {
   "cell_type": "markdown",
   "metadata": {},
   "source": []
  },
  {
   "cell_type": "code",
   "execution_count": null,
   "metadata": {},
   "outputs": [],
   "source": []
  },
  {
   "cell_type": "code",
   "execution_count": null,
   "metadata": {},
   "outputs": [],
   "source": []
  },
  {
   "cell_type": "markdown",
   "metadata": {},
   "source": [
    "-----------------------------------------"
   ]
  },
  {
   "cell_type": "markdown",
   "metadata": {},
   "source": [
    "## TAREFA"
   ]
  },
  {
   "cell_type": "code",
   "execution_count": null,
   "metadata": {},
   "outputs": [],
   "source": [
    "\"\"\"CRIE UM OBJETO CARRO APLICANDO OS CONCEITOS DE ENCAPSULAMENTO E POLIMORFISMO\"\"\"\n",
    "\n",
    "# Escreva aqui abaixo\n"
   ]
  },
  {
   "cell_type": "markdown",
   "metadata": {},
   "source": [
    "-----------------------------------------"
   ]
  }
 ],
 "metadata": {
  "kernelspec": {
   "display_name": "Python 3.10.6 ('aula')",
   "language": "python",
   "name": "python3"
  },
  "language_info": {
   "codemirror_mode": {
    "name": "ipython",
    "version": 3
   },
   "file_extension": ".py",
   "mimetype": "text/x-python",
   "name": "python",
   "nbconvert_exporter": "python",
   "pygments_lexer": "ipython3",
   "version": "3.10.6"
  },
  "orig_nbformat": 4,
  "vscode": {
   "interpreter": {
    "hash": "d6eeed67e8b31e9914d1b8b2a22710732b8ff57f933bb65cfc5e1fb719b027eb"
   }
  }
 },
 "nbformat": 4,
 "nbformat_minor": 2
}
