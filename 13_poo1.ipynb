{
 "cells": [
  {
   "cell_type": "markdown",
   "metadata": {},
   "source": [
    "# **PYTHON 13 PROG. ORIENTADA A OBJETOS (parte 1)**"
   ]
  },
  {
   "cell_type": "markdown",
   "metadata": {},
   "source": [
    "### **TÓPICOS A ESTUDAR:**"
   ]
  },
  {
   "cell_type": "markdown",
   "metadata": {},
   "source": [
    "- POO\n",
    "    - O que é\n",
    "- Comandos básicos\n",
    "    - Sintaxe\n",
    "    - Exemplos<br><br>\n",
    "- Tarefa"
   ]
  },
  {
   "cell_type": "markdown",
   "metadata": {},
   "source": [
    "-----------------------------------------"
   ]
  },
  {
   "cell_type": "markdown",
   "metadata": {},
   "source": [
    "## POO"
   ]
  },
  {
   "cell_type": "markdown",
   "metadata": {},
   "source": [
    "**O QUE É**<br>\n",
    "- Como a maioria das atividades que fazemos no dia a dia, programar também possui modos diferentes de se fazer. Esses modos são chamados de **paradigmas de programação** e, entre eles, estão a programação orientada a objetos (POO) e a programação estruturada.\n",
    "- As vantagens de aplicar soluções orientadas a objeto é o reaproveitamento de código e facilidade de aplicar e desenvolver soluções e sistemas mais complexos, trazendo mais didática na organização e administração dos algoritmos.\n",
    "- Saiba mais em: https://coodesh.com/blog/dicionario/o-que-e-poo-em-programacao/\n",
    "<br>"
   ]
  },
  {
   "cell_type": "markdown",
   "metadata": {},
   "source": [
    "-----------------------------------------"
   ]
  },
  {
   "cell_type": "markdown",
   "metadata": {},
   "source": [
    "## COMANDOS BÁSICOS"
   ]
  },
  {
   "cell_type": "markdown",
   "metadata": {},
   "source": [
    "**SINTAXE**<br>\n",
    "- Criar um objeto, atributos, construtor e métodos.\n",
    "```\n",
    "class nome:\n",
    "    self.atributo = valor\n",
    "    \n",
    "    def __init__(self, parâmetros):\n",
    "\n",
    "    def método(self):\n",
    "\n",
    "```\n",
    "\n",
    "- Instanciar um objeto.\n",
    "```\n",
    "objeto = nome(parâmetros)\n",
    "```\n",
    "\n",
    "<br>\n",
    "\n",
    "**EXEMPLO**<br>"
   ]
  },
  {
   "cell_type": "code",
   "execution_count": 6,
   "metadata": {},
   "outputs": [],
   "source": [
    "class Aluno:\n",
    "    def __init__(self, nome, sexo, matricula, curso): # Método construtor\n",
    "        self.nome = nome\n",
    "        self.sexo = sexo\n",
    "        self.matricula = matricula\n",
    "        self.curso = curso\n",
    "    \n",
    "    def apresentacao(self):\n",
    "        if self.sexo == 1:\n",
    "            print(f\"Apresentação da aluna {self.nome}:\")\n",
    "            print(f\"- Sexo: {self.sexo}\")\n",
    "            print(f\"- Matrícula: {self.matricula}\")\n",
    "            print(f\"- curso: {self.curso}\")\n",
    "        else:\n",
    "            print(f\"Apresentação do aluno {self.nome}:\")\n",
    "            print(f\"- Sexo: {self.sexo}\")\n",
    "            print(f\"- Matrícula: {self.matricula}\")\n",
    "            print(f\"- curso: {self.curso}\")"
   ]
  },
  {
   "cell_type": "code",
   "execution_count": 7,
   "metadata": {},
   "outputs": [
    {
     "name": "stdout",
     "output_type": "stream",
     "text": [
      "Apresentação da aluna Ana:\n",
      "- Sexo: 1\n",
      "- Matrícula: 2120\n",
      "- curso: Eng. Mecatrônica\n"
     ]
    }
   ],
   "source": [
    "aluno1 = Aluno(nome='Ana', sexo=1, matricula=2120, curso='Eng. Mecatrônica')\n",
    "aluno1.apresentacao()"
   ]
  },
  {
   "cell_type": "markdown",
   "metadata": {},
   "source": [
    "-----------------------------------------"
   ]
  },
  {
   "cell_type": "markdown",
   "metadata": {},
   "source": [
    "## TAREFA"
   ]
  },
  {
   "cell_type": "code",
   "execution_count": null,
   "metadata": {},
   "outputs": [],
   "source": [
    "\"\"\"CRIE UM OBJETO FUNCIONÁRIO COM OS ATRIBUTOS E UM MÉTODO PARA CALCULAR AUMENTO EM SEU SALÁRIO DE 5%\"\"\"\n",
    "\n",
    "# Escreva aqui abaixo\n"
   ]
  },
  {
   "cell_type": "markdown",
   "metadata": {},
   "source": [
    "-----------------------------------------"
   ]
  }
 ],
 "metadata": {
  "kernelspec": {
   "display_name": "Python 3.10.6 ('aula')",
   "language": "python",
   "name": "python3"
  },
  "language_info": {
   "codemirror_mode": {
    "name": "ipython",
    "version": 3
   },
   "file_extension": ".py",
   "mimetype": "text/x-python",
   "name": "python",
   "nbconvert_exporter": "python",
   "pygments_lexer": "ipython3",
   "version": "3.10.6"
  },
  "orig_nbformat": 4,
  "vscode": {
   "interpreter": {
    "hash": "d6eeed67e8b31e9914d1b8b2a22710732b8ff57f933bb65cfc5e1fb719b027eb"
   }
  }
 },
 "nbformat": 4,
 "nbformat_minor": 2
}
