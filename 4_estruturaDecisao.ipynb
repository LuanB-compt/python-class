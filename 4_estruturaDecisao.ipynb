{
 "cells": [
  {
   "cell_type": "markdown",
   "metadata": {},
   "source": [
    "# **INTRODUAÇÃO A PYTHON 4 (ESTRUTURAS DE DECISÃO)**"
   ]
  },
  {
   "cell_type": "markdown",
   "metadata": {},
   "source": [
    "### **TÓPICOS A ESTUDAR:**"
   ]
  },
  {
   "cell_type": "markdown",
   "metadata": {},
   "source": [
    "- if/else\n",
    "    - O que é if/else\n",
    "    - if/else aninhado\n",
    "    - Sintaxe\n",
    "    - Exemplos<br><br>\n",
    "- Python 3.10 Switch case:\n",
    "    - O que é switch case\n",
    "    - Sintaxe\n",
    "    - Exemplos<br><br>\n",
    "- Tarefa"
   ]
  },
  {
   "cell_type": "markdown",
   "metadata": {},
   "source": [
    "-----------------------------------------"
   ]
  },
  {
   "cell_type": "markdown",
   "metadata": {},
   "source": [
    "## IF/ELSE"
   ]
  },
  {
   "cell_type": "markdown",
   "metadata": {},
   "source": [
    "**O QUE É IF/ELSE**<br>\n",
    "- É uma estrutura utilizada para que o algoritmo consiga tomar decisões durante a execução e realize a tarefa e sequência de comandos corretos. Onde é passado uma expressão booleana e caso a expressão seja verdadeira, é executado um bloco de código. <br><br>\n",
    "**SINTAXE**<br>\n",
    "```\n",
    "if condição:\n",
    "    instruções\n",
    "    instruções\n",
    "elif condição:\n",
    "    instruções\n",
    "    instruções\n",
    "else:\n",
    "    instruções\n",
    "    instruções\n",
    "```\n",
    "<br>\n",
    "\n",
    "**IF/ELSE ANINHADO**<br>\n",
    "- if/else com mais if/else dentro do bloco de código. O aninhamento pode ser repetido quantas vezes for necessário. <br><br>\n",
    "**SINTAXE**<br>\n",
    "```\n",
    "if condição:\n",
    "    instruções\n",
    "    instruções\n",
    "else:\n",
    "    if condição:\n",
    "        instruções\n",
    "    else:\n",
    "        instruções\n",
    "```\n",
    "<br>\n",
    "\n",
    "**EXEMPLO**<br>"
   ]
  },
  {
   "cell_type": "code",
   "execution_count": null,
   "metadata": {},
   "outputs": [],
   "source": [
    "if (1+1)==2:\n",
    "    print('IF Condição Verdadeira')\n",
    "elif 4 != 5:\n",
    "    print('ELIF Condição Verdadeira')\n",
    "else:\n",
    "    print('Condição Falsa')"
   ]
  },
  {
   "cell_type": "markdown",
   "metadata": {},
   "source": [
    "-----------------------------------------"
   ]
  },
  {
   "cell_type": "markdown",
   "metadata": {},
   "source": [
    "## PYTHON 3.10 SWITCH CASE"
   ]
  },
  {
   "cell_type": "markdown",
   "metadata": {},
   "source": [
    "**O QUE É SWITCH CASE**<br>\n",
    "- Uma outra estrutura de decisão, que até a versão 3.10 do Python não existia na linguagem, apenas em outras (como em C). Também conhecido como **Structural Pattern Matching** em Python, é uma estrutura que irá testar sucessivamente o valor de uma expressão contra uma lista de constantes inteiras ou de caracteres. <br>\n",
    "\n",
    "**SINTAXE**<br>\n",
    "```\n",
    "match term:\n",
    "    case pattern 1:\n",
    "        action 1\n",
    "    case pattern 2:\n",
    "        action 2\n",
    "    case _?\n",
    "        action default\n",
    "```\n",
    "<br>\n",
    "\n",
    "**EXEMPLO**"
   ]
  },
  {
   "cell_type": "code",
   "execution_count": null,
   "metadata": {},
   "outputs": [],
   "source": [
    "var = input(\"What is your favorite language?\")\n",
    "match var:\n",
    "    case \"Python\":\n",
    "        print(\"Do you already trained a Artificial Intelligence?\")\n",
    "    case \"Java\":\n",
    "        print(\"Do you already know about Oriented Objects and Programming Paradigms?\")\n",
    "    case _:\n",
    "        print(\"Tell me more about this language\")"
   ]
  },
  {
   "cell_type": "markdown",
   "metadata": {},
   "source": [
    "-----------------------------------------"
   ]
  },
  {
   "cell_type": "markdown",
   "metadata": {},
   "source": [
    "## TAREFA"
   ]
  },
  {
   "cell_type": "code",
   "execution_count": null,
   "metadata": {},
   "outputs": [],
   "source": [
    "\"\"\"FAÇA UM PROGRAMA QUE VERIFIQUE SE O INPUT RECEBIDO É NUMÉRICO, E ENTÃO CONVERTA PARA INT OU FLOAT O DADO RECEBIDO\"\"\"\n",
    "\n",
    "# Escreva seu código aqui abaixo"
   ]
  },
  {
   "cell_type": "code",
   "execution_count": null,
   "metadata": {},
   "outputs": [],
   "source": [
    "\"\"\"FAÇA UM MENU DE CALCULADORA E RESOLVA A CONTA DE ACORDO COM A OPERAÇÃO E OS NÚMEROS QUE O USUÁRIO INSERIR\"\"\"\n",
    "\n",
    "# Escreva seu código aqui abaixo"
   ]
  },
  {
   "cell_type": "markdown",
   "metadata": {},
   "source": [
    "-----------------------------------------"
   ]
  }
 ],
 "metadata": {
  "kernelspec": {
   "display_name": "Python 3.8.13 ('aula')",
   "language": "python",
   "name": "python3"
  },
  "language_info": {
   "codemirror_mode": {
    "name": "ipython",
    "version": 3
   },
   "file_extension": ".py",
   "mimetype": "text/x-python",
   "name": "python",
   "nbconvert_exporter": "python",
   "pygments_lexer": "ipython3",
   "version": "3.10.6"
  },
  "orig_nbformat": 4,
  "vscode": {
   "interpreter": {
    "hash": "d6eeed67e8b31e9914d1b8b2a22710732b8ff57f933bb65cfc5e1fb719b027eb"
   }
  }
 },
 "nbformat": 4,
 "nbformat_minor": 2
}
