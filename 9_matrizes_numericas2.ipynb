{
 "cells": [
  {
   "cell_type": "markdown",
   "metadata": {},
   "source": [
    "# **PYTHON 8 MATRIZES NUMÉRICAS (parte 1)**"
   ]
  },
  {
   "cell_type": "markdown",
   "metadata": {},
   "source": [
    "### **TÓPICOS A ESTUDAR:**"
   ]
  },
  {
   "cell_type": "markdown",
   "metadata": {},
   "source": [
    "- Operaçãoes com matrizes\n",
    "    - Sintaxe\n",
    "    - Exemplos<br><br>\n",
    "- Salvar e carregar dados\n",
    "    - Sintaxe\n",
    "    - Exemplos<br><br>\n",
    "- Tarefa"
   ]
  },
  {
   "cell_type": "markdown",
   "metadata": {},
   "source": [
    "-----------------------------------------"
   ]
  },
  {
   "cell_type": "markdown",
   "metadata": {},
   "source": [
    "## OPERAÇÕES COM MATRIZES"
   ]
  },
  {
   "cell_type": "markdown",
   "metadata": {},
   "source": [
    "**OPERAÇÕES BÁSICAS**<br>\n",
    "- `np.array() + np.array()`: Soma o elemento da linha i e coluna j com o elemento da mesmo posição da outra matriz\n",
    "- `np.array() - np.array()`: Subtrai o elemento da linha i e coluna j com o elemento da mesmo posição da outra matriz\n",
    "- `np.array() * np.array()`: Multiplica o elemento da linha i e coluna j com o elemento da mesmo posição da outra matriz\n",
    "- `np.array() / np.array()`: Divide o elemento da linha i e coluna j com o elemento da mesmo posição da outra matriz\n",
    "\n",
    "\\* É possível fazer essas operações com arrays de tamanhos diferentes, porém apenas se o array tiver uma coluna ou uma linha<br>\n",
    "\n",
    "- `np.array() + x`: Soma todos os elementos da matriz com o valor de `x` (qualquer operação)\n",
    "<br>\n",
    "\n",
    "**MÉTODOS ÚTEIS COM ARRAYS**<br>\n",
    "- `np.array().max()`: Retorna o maior valor no array\n",
    "- `np.array().min()`: Retorna o menor valor no array\n",
    "- `np.array().sum()`: Retorna a soma de todos os elementos do array\n",
    "* Há outras funções para organizar arrays (argsort, lexsort, searchsort, ...)\n",
    "<br>\n",
    "\n",
    "**MATRIZ TRANSPOSTA**<br>\n",
    "- `np.array().transpose()`: Retorna a transposta da matriz\n",
    "- `np.array().T`: Retorna a transposta da matriz\n",
    "<br>\n",
    "\n",
    "**MATRIZ REVERSA**<br>\n",
    "- `np.flip(np.array())`: Retorna a matriz com os valores reversos\n",
    "- `np.flip(np.array(), axis=0)`: Retorna a matriz com os valores reversos apenas nas linhas\n",
    "- `np.flip(np.array(), axis=1)`: Retorna a matriz com os valores reversos apenas nas colunas\n",
    "\n",
    "**MATRIZ INVERSA**<br>\n",
    "- `np.linalg.inv(np.array())`: Retorna a matriz inversa\n",
    "\n",
    "**REMOVER DIMENSÕES**<br>\n",
    "- `np.array().flatten()`: Retorna a matriz menos 1 dimensão sem alterar os valores\n",
    "\n",
    "**MATHEMATICAL FORMULAS**\n",
    "- A facilidade da implementação de fórmulas matemáticas que trabalham com matrizes é uma das coisas que torna NumPy tão utilizado pela comunidade científica.\n",
    "- Utilizar as funções de operações matemáticas do NumPy\n",
    "<br>\n",
    "\n",
    "**EXEMPLO**<br>"
   ]
  },
  {
   "cell_type": "code",
   "execution_count": null,
   "metadata": {},
   "outputs": [],
   "source": [
    "import numpy as np\n",
    "\n",
    "array1 = np.array([[0,1,2,3,4], [5,6,7,8,9]])\n",
    "array2 = np.array([[0,1,2,3,4], [5,6,7,8,9]])\n",
    "array1 + array2"
   ]
  },
  {
   "cell_type": "code",
   "execution_count": null,
   "metadata": {},
   "outputs": [],
   "source": [
    "array1 = np.array([[0,1,2,3,4], [5,6,7,8,9]])\n",
    "array1 * 2"
   ]
  },
  {
   "cell_type": "code",
   "execution_count": null,
   "metadata": {},
   "outputs": [],
   "source": [
    "print(array1.max())\n",
    "print(array1.min())\n",
    "print(array1.sum())"
   ]
  },
  {
   "cell_type": "code",
   "execution_count": null,
   "metadata": {},
   "outputs": [],
   "source": [
    "print(array1.transpose(), '\\n')\n",
    "print(array1.T)"
   ]
  },
  {
   "cell_type": "code",
   "execution_count": null,
   "metadata": {},
   "outputs": [],
   "source": [
    "print(np.flip(array1), '\\n')\n",
    "print(np.flip(array1, axis=0), '\\n')\n",
    "print(np.flip(array1, axis=1))"
   ]
  },
  {
   "cell_type": "code",
   "execution_count": null,
   "metadata": {},
   "outputs": [],
   "source": [
    "array2 = np.array([[2,3], [0,1]])\n",
    "np.linalg.inv(array2)"
   ]
  },
  {
   "cell_type": "code",
   "execution_count": null,
   "metadata": {},
   "outputs": [],
   "source": [
    "array1.flatten()"
   ]
  },
  {
   "cell_type": "code",
   "execution_count": null,
   "metadata": {},
   "outputs": [],
   "source": [
    "MeanSquaredError = 1/array1.size * np.sum(np.square(array1 - (array1+1)))\n",
    "MeanSquaredErrorx"
   ]
  },
  {
   "cell_type": "markdown",
   "metadata": {},
   "source": [
    "-----------------------------------------"
   ]
  },
  {
   "cell_type": "markdown",
   "metadata": {},
   "source": [
    "**SALVAR E CARREGAR DADOS**<br>\n",
    "- `np.save('file.npy', np.array())`: Salva o array pelo caminho passado como `.npy`\n",
    "- `np.load('file.npy')`: Retorna o arquivo lido como um array\n",
    "\n",
    "\\* É possível também ler e salvar CSV's com NumPy:\n",
    "- `np.savetxt('file.csv', np.array())`: Salva o array pelo caminho passado como `.csv`\n",
    "- `np.loadtxt('file.csv')`: Retorna o arquivo `.csv` como um array\n",
    "<br>\n",
    "\n",
    "**EXEMPLO**<br>"
   ]
  },
  {
   "cell_type": "code",
   "execution_count": null,
   "metadata": {},
   "outputs": [],
   "source": [
    "import numpy as np\n",
    "\n",
    "array1 = np.array([[0,1,2,3,4], [5,6,7,8,9]])\n",
    "np.save('Data/data.npy', array1)"
   ]
  },
  {
   "cell_type": "code",
   "execution_count": null,
   "metadata": {},
   "outputs": [],
   "source": [
    "data = np.load('Data/data.npy')\n",
    "data"
   ]
  },
  {
   "cell_type": "markdown",
   "metadata": {},
   "source": [
    "## TAREFA"
   ]
  },
  {
   "cell_type": "code",
   "execution_count": null,
   "metadata": {},
   "outputs": [],
   "source": [
    "\"\"\"  \"\"\"\n",
    "\n",
    "# Escreva seu código abaixo\n"
   ]
  },
  {
   "cell_type": "markdown",
   "metadata": {},
   "source": [
    "-----------------------------------------"
   ]
  }
 ],
 "metadata": {
  "kernelspec": {
   "display_name": "Python 3.10.6 ('aula')",
   "language": "python",
   "name": "python3"
  },
  "language_info": {
   "codemirror_mode": {
    "name": "ipython",
    "version": 3
   },
   "file_extension": ".py",
   "mimetype": "text/x-python",
   "name": "python",
   "nbconvert_exporter": "python",
   "pygments_lexer": "ipython3",
   "version": "3.10.6"
  },
  "orig_nbformat": 4,
  "vscode": {
   "interpreter": {
    "hash": "d6eeed67e8b31e9914d1b8b2a22710732b8ff57f933bb65cfc5e1fb719b027eb"
   }
  }
 },
 "nbformat": 4,
 "nbformat_minor": 2
}
