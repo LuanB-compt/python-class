{
 "cells": [
  {
   "cell_type": "markdown",
   "metadata": {},
   "source": [
    "# **PYTHON 7 ESTRUTURA DE DADOS (TUPLAS e DICIONÁRIOS)**"
   ]
  },
  {
   "cell_type": "markdown",
   "metadata": {},
   "source": [
    "### **TÓPICOS A ESTUDAR:**"
   ]
  },
  {
   "cell_type": "markdown",
   "metadata": {},
   "source": [
    "- Tuplas\n",
    "    - O que são\n",
    "    - Sintaxe\n",
    "    - Exemplos<br><br>\n",
    "- Dicionários\n",
    "    - O que são\n",
    "    - Sintaxe\n",
    "    - Exemplos<br><br>\n",
    "- Tarefa"
   ]
  },
  {
   "cell_type": "markdown",
   "metadata": {},
   "source": [
    "-----------------------------------------"
   ]
  },
  {
   "cell_type": "markdown",
   "metadata": {},
   "source": [
    "## TUPLAS"
   ]
  },
  {
   "cell_type": "markdown",
   "metadata": {},
   "source": [
    "**O QUE SÃO**<br>\n",
    "- Tuplas consiste em uma sequência de valores separados por vírgula. Não é possível manipular elementos individuais de uma tupla, porém é possível criar tuplas com elementos mutáveis, como as listas. As tuplas possuem diversas características em comum com as listas, mas a utilização é distinta (basicamente as listas são destinadas a serem sequências **homogêneas**, enquanto que as Tuplas são estruturas de dados **heterogêneas**).\n",
    "- Como as tuplas são imutáveis, a iteração sobre elas é **mais rápida** (ganho de desempenho com relação às listas). E ainda se for necessário armazenar dados que não serão alterados, utilize a tupla (garantindo que esses sejam **protegidos** de alterações posteriores). \n",
    "<br>\n",
    "\n",
    "**SINTAXE**<br>\n",
    "```\n",
    "nome = valores\n",
    "nome = (valores)\n",
    "```\n",
    "<br>\n",
    "\n",
    "**EXEMPLO**<br>"
   ]
  },
  {
   "cell_type": "code",
   "execution_count": 6,
   "metadata": {},
   "outputs": [
    {
     "data": {
      "text/plain": [
       "(('João', 'Facens', 'Rota2030'), (0, 1, 2, 3, 4))"
      ]
     },
     "execution_count": 6,
     "metadata": {},
     "output_type": "execute_result"
    }
   ],
   "source": [
    "tupla1 = 'João', 'Facens', 'Rota2030'\n",
    "tupla2 = (0,1,2,3,4)\n",
    "tupla = tupla1, tupla2\n",
    "tupla"
   ]
  },
  {
   "cell_type": "code",
   "execution_count": 7,
   "metadata": {},
   "outputs": [
    {
     "data": {
      "text/plain": [
       "[0, 1, 2]"
      ]
     },
     "execution_count": 7,
     "metadata": {},
     "output_type": "execute_result"
    }
   ],
   "source": [
    "tupla = ([0,1,2], [9,8,7])\n",
    "tupla[0]"
   ]
  },
  {
   "cell_type": "markdown",
   "metadata": {},
   "source": [
    "-----------------------------------------"
   ]
  },
  {
   "cell_type": "markdown",
   "metadata": {},
   "source": [
    "## DICIONÁRIOS"
   ]
  },
  {
   "cell_type": "markdown",
   "metadata": {},
   "source": [
    "**O QUE SÃO**<br>\n",
    "- Diferente das sequências (onde os elementos são indexadas por números), os dicionários tem os elementos indexados por **chaves** (chaves podem ser de qualquer tipo imutável). As principais operações que o dicinário é aplicado é para armazenamento de informações ligadas a uma chave, e acesso a informações por meio de uma chave.\n",
    "<br>\n",
    "\n",
    "**SINTAXE**<br>\n",
    "```\n",
    "nome = {'chave1':valor, 'chave2':valor}\n",
    "```\n",
    "<br>\n",
    "\n",
    "**EXEMPLO**<br>"
   ]
  },
  {
   "cell_type": "code",
   "execution_count": 8,
   "metadata": {},
   "outputs": [
    {
     "data": {
      "text/plain": [
       "{'max_value': 100000000000000000000000000000000000000000000000000000000000000000000000000000000000000000000000000000000000000000000000000000000000000000000000000000000000000000000000000000000000000000000000000000000,\n",
       " 'nomes': ['João', 'Facens', 'Rota2030'],\n",
       " 'condição': False}"
      ]
     },
     "execution_count": 8,
     "metadata": {},
     "output_type": "execute_result"
    }
   ],
   "source": [
    "dic = {'max_value':100**100, 'nomes':list(tupla1), 'condição':1>2}\n",
    "dic"
   ]
  },
  {
   "cell_type": "code",
   "execution_count": 9,
   "metadata": {},
   "outputs": [
    {
     "name": "stdout",
     "output_type": "stream",
     "text": [
      "João\n"
     ]
    }
   ],
   "source": [
    "dic = {'max_value':100**100, 'nomes':list(tupla1), 'condição':1>2}\n",
    "\n",
    "if dic['condição'] == True:\n",
    "    print(dic['max_value'])\n",
    "else:\n",
    "    print(dic['nomes'][0])"
   ]
  },
  {
   "cell_type": "code",
   "execution_count": 10,
   "metadata": {},
   "outputs": [
    {
     "data": {
      "text/plain": [
       "{'bateria': 12, 'energia': 110, 'hello': 'world'}"
      ]
     },
     "execution_count": 10,
     "metadata": {},
     "output_type": "execute_result"
    }
   ],
   "source": [
    "dic = dict(bateria=12, energia=110, hello='world')\n",
    "dic"
   ]
  },
  {
   "cell_type": "markdown",
   "metadata": {},
   "source": [
    "-----------------------------------------"
   ]
  },
  {
   "cell_type": "markdown",
   "metadata": {},
   "source": [
    "## TAREFA"
   ]
  },
  {
   "cell_type": "code",
   "execution_count": null,
   "metadata": {},
   "outputs": [],
   "source": [
    "\"\"\" ESCREVA UM ALGORITMO QUE RECEBA UM VALOR E RETORNA O NOME DA CHAVE DO DICIONÁRIO QUE CONTENHA AQUELE VALOR \"\"\"\n",
    "\n",
    "dic = dict(bateria=12, energia=110, hello='world', corrente=2, tipo='dicionário')\n",
    "valor = 2\n",
    "\n",
    "# Escreva seu código abaixo\n"
   ]
  },
  {
   "cell_type": "markdown",
   "metadata": {},
   "source": [
    "-----------------------------------------"
   ]
  }
 ],
 "metadata": {
  "kernelspec": {
   "display_name": "Python 3.10.6 ('aula')",
   "language": "python",
   "name": "python3"
  },
  "language_info": {
   "codemirror_mode": {
    "name": "ipython",
    "version": 3
   },
   "file_extension": ".py",
   "mimetype": "text/x-python",
   "name": "python",
   "nbconvert_exporter": "python",
   "pygments_lexer": "ipython3",
   "version": "3.10.6"
  },
  "orig_nbformat": 4,
  "vscode": {
   "interpreter": {
    "hash": "d6eeed67e8b31e9914d1b8b2a22710732b8ff57f933bb65cfc5e1fb719b027eb"
   }
  }
 },
 "nbformat": 4,
 "nbformat_minor": 2
}
